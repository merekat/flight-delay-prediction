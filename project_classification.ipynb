{
    "cells": [
        {
            "cell_type": "markdown",
            "metadata": {},
            "source": [
                "## Import"
            ]
        },
        {
            "cell_type": "code",
            "execution_count": null,
            "metadata": {
                "tags": []
            },
            "outputs": [],
            "source": [
                "# Import of basic packages\n",
                "import numpy as np\n",
                "import pandas as pd\n",
                "import operator\n",
                "from joblib import dump, load\n",
                "import sys\n",
                "import warnings\n",
                "\n",
                "warnings.filterwarnings('ignore')\n",
                "\n",
                "# Import of chart packages\n",
                "import matplotlib.pyplot as plt\n",
                "import seaborn as sns\n",
                "import plotly.express as px\n",
                "import altair as alt\n",
                "\n",
                "# Import for normal distribution\n",
                "import pylab\n",
                "import scipy.stats as stats\n",
                "import statsmodels.api as sm\n",
                "from scipy.stats import shapiro\n",
                "\n",
                "# Import of machine learning metric packages\n",
                "from sklearn.metrics import make_scorer, f1_score, classification_report, confusion_matrix, mean_squared_error, r2_score, accuracy_score, recall_score, precision_score, roc_auc_score, roc_curve, fbeta_score\n",
                "from sklearn import metrics\n",
                "from scipy.stats import randint, uniform, loguniform\n",
                "\n",
                "# Import of preprossesor packages\n",
                "from sklearn import preprocessing\n",
                "from sklearn.impute import SimpleImputer\n",
                "from sklearn.compose import ColumnTransformer\n",
                "from sklearn.preprocessing import StandardScaler, MinMaxScaler, OrdinalEncoder, LabelBinarizer, PolynomialFeatures\n",
                "\n",
                "# Import of machine learning packages\n",
                "from sklearn.pipeline import Pipeline\n",
                "from sklearn.model_selection import train_test_split, GridSearchCV, cross_val_predict, RandomizedSearchCV\n",
                "from sklearn.linear_model import LinearRegression, Ridge, Lasso, LogisticRegression, SGDClassifier\n",
                "from sklearn.neighbors import KNeighborsRegressor, KNeighborsClassifier\n",
                "from sklearn.tree import DecisionTreeClassifier, DecisionTreeRegressor, plot_tree\n",
                "from sklearn.ensemble import GradientBoostingClassifier, ExtraTreesClassifier, BaggingClassifier, RandomForestClassifier, RandomForestRegressor, VotingClassifier, StackingRegressor, StackingClassifier, AdaBoostClassifier\n",
                "from xgboost import XGBClassifier\n",
                "from sklearn.svm import SVC\n",
                "\n",
                "# Set random seed \n",
                "RSEED = 0"
            ]
        },
        {
            "cell_type": "markdown",
            "metadata": {},
            "source": [
                "## Style"
            ]
        },
        {
            "cell_type": "code",
            "execution_count": 120,
            "metadata": {},
            "outputs": [],
            "source": [
                "pd.set_option('display.max_columns', None)\n",
                "plt.style.use(\"fivethirtyeight\")"
            ]
        },
        {
            "cell_type": "markdown",
            "metadata": {},
            "source": [
                "## Load"
            ]
        },
        {
            "cell_type": "code",
            "execution_count": null,
            "metadata": {},
            "outputs": [],
            "source": [
                "# Load csv\n",
                "df = pd.read_csv('data/train.csv')\n",
                "df.head(3)"
            ]
        },
        {
            "cell_type": "markdown",
            "metadata": {},
            "source": [
                "## Explore data analysis"
            ]
        },
        {
            "cell_type": "code",
            "execution_count": null,
            "metadata": {
                "tags": []
            },
            "outputs": [],
            "source": [
                "# EDA info & describe\n",
                "info = pd.concat([\n",
                "df.dtypes.to_frame().T,\n",
                "df.mean(numeric_only=True).to_frame().T,\n",
                "df.std(numeric_only=True).to_frame().T,\n",
                "df.min(numeric_only=True).to_frame().T,\n",
                "df.quantile(0.25, numeric_only=True).to_frame().T,\n",
                "df.quantile(0.5, numeric_only=True).to_frame().T, \n",
                "df.quantile(0.75, numeric_only=True).to_frame().T,\n",
                "df.max(numeric_only=True).to_frame().T,], ignore_index=True).applymap(lambda x: round(x, 1) if isinstance(x, (int, float)) else x)\n",
                "\n",
                "info.insert(0, 'statistic', ['dtype', 'mean', 'std', 'min', '25%', '50%', '75%', 'max'])\n",
                "info"
            ]
        },
        {
            "cell_type": "code",
            "execution_count": null,
            "metadata": {
                "tags": []
            },
            "outputs": [],
            "source": [
                "# EDA duplicates\n",
                "duplicates = df.duplicated().sum()\n",
                "duplicate_percentage = round((duplicates / df.shape[0]) * 100, 1)\n",
                "df[df.duplicated(keep=False)].head(10)"
            ]
        },
        {
            "cell_type": "code",
            "execution_count": null,
            "metadata": {
                "tags": []
            },
            "outputs": [],
            "source": [
                "# EDA NaNs\n",
                "missing = pd.DataFrame(df.isnull().sum(), columns=['Amount'])\n",
                "missing['Percentage'] = round((missing['Amount']/df.shape[0]) * 100, 1)\n",
                "missing[missing['Amount'] != 0]"
            ]
        },
        {
            "cell_type": "code",
            "execution_count": null,
            "metadata": {
                "tags": []
            },
            "outputs": [],
            "source": [
                "# EDA shape\n",
                "print('Number of rows and columns: ',df.shape)\n",
                "print('-'*50)\n",
                "pd.concat([df.head(3), df.tail(3)]).reset_index(drop=True)"
            ]
        },
        {
            "cell_type": "code",
            "execution_count": null,
            "metadata": {
                "tags": []
            },
            "outputs": [],
            "source": [
                "# EDA Uniques\n",
                "unique_counts = pd.DataFrame(df.nunique(), columns=['Amount']).sort_values('Amount', ascending=False).T\n",
                "unique_counts"
            ]
        },
        {
            "cell_type": "code",
            "execution_count": null,
            "metadata": {
                "tags": []
            },
            "outputs": [],
            "source": [
                "df.head(10)"
            ]
        },
        {
            "cell_type": "code",
            "execution_count": null,
            "metadata": {},
            "outputs": [],
            "source": [
                "# Get dataframe for delayed flights\n",
                "df_delayed = df.copy()\n",
                "df_delayed = df_delayed[df_delayed[\"target\"] > 0]\n",
                "df_delayed.info()"
            ]
        },
        {
            "cell_type": "code",
            "execution_count": null,
            "metadata": {},
            "outputs": [],
            "source": [
                "# Overview of target distribution\n",
                "print(\"General statistics of target:\\n\", (df['target']).describe())\n",
                "\n",
                "# Creating a figure composed of two matplotlib.Axes objects (ax_box and ax_hist)\n",
                "f, (ax_box, ax_hist) = plt.subplots(2, sharex=True, gridspec_kw={\"height_ratios\": (.15, .85)})\n",
                " \n",
                "# Assigning a graph to each ax\n",
                "sns.boxplot(df[\"target\"], orient=\"h\", ax=ax_box, color='lightblue')\n",
                "sns.histplot(data=df, x=\"target\", ax=ax_hist, color='lightblue')\n",
                "\n",
                "# Remove x axis name for the boxplot\n",
                "ax_box.set(xlabel='')\n",
                "ax_box.set_xlim([-20, 500])\n",
                "plt.show()"
            ]
        },
        {
            "cell_type": "code",
            "execution_count": null,
            "metadata": {},
            "outputs": [],
            "source": [
                "# Overview of target distribution (of delayed flights)\n",
                "print(\"General statistics of target (of delayed flights):\\n\", (df_delayed['target']).describe())\n",
                "\n",
                "# Creating a figure composed of two matplotlib.Axes objects (ax_box and ax_hist)\n",
                "f, (ax_box, ax_hist) = plt.subplots(2, sharex=True, gridspec_kw={\"height_ratios\": (.15, .85)})\n",
                " \n",
                "# Assigning a graph to each ax\n",
                "sns.boxplot(df_delayed[\"target\"], orient=\"h\", ax=ax_box, color='lightblue')\n",
                "sns.histplot(data=df_delayed, x=\"target\", ax=ax_hist, color='lightblue')\n",
                "\n",
                "# Remove x axis name for the boxplot\n",
                "ax_box.set(xlabel='')\n",
                "ax_box.set_xlim([-20, 500])\n",
                "plt.show()"
            ]
        },
        {
            "cell_type": "code",
            "execution_count": null,
            "metadata": {},
            "outputs": [],
            "source": [
                "stat, p = shapiro(df_delayed['target'])\n",
                "\n",
                "# Interpretation of p-value\n",
                "alpha = 0.05\n",
                "if p > alpha:\n",
                "    print('The data of column \"target\" looks normally distributed (p > 0.05, fail to reject H0).')\n",
                "else:\n",
                "    print('The data of column \"target\" does not look normally distributed (p < 0.05, reject H0).')"
            ]
        },
        {
            "cell_type": "code",
            "execution_count": null,
            "metadata": {},
            "outputs": [],
            "source": [
                "# Grafic methode: Q-Q-Plot\n",
                "stats.probplot(df_delayed['target'], dist=\"norm\", plot=pylab)\n",
                "pylab.show()"
            ]
        },
        {
            "cell_type": "markdown",
            "metadata": {},
            "source": [
                "Check influence of departure and arrival airport route"
            ]
        },
        {
            "cell_type": "code",
            "execution_count": null,
            "metadata": {},
            "outputs": [],
            "source": [
                "df['flight_route'] = df[\"DEPSTN\"] + df[\"ARRSTN\"]"
            ]
        },
        {
            "cell_type": "code",
            "execution_count": null,
            "metadata": {},
            "outputs": [],
            "source": [
                "# Get 5 most frequent flight routes\n",
                "df['flight_route'].value_counts(sort=True).head(5)"
            ]
        },
        {
            "cell_type": "code",
            "execution_count": null,
            "metadata": {},
            "outputs": [],
            "source": [
                "df[df[\"flight_route\"]==\"TUNTUN\"].head(5)"
            ]
        },
        {
            "cell_type": "code",
            "execution_count": null,
            "metadata": {},
            "outputs": [],
            "source": [
                "# Get all entries, where dep and arr airport are the same\n",
                "df[df[\"DEPSTN\"]==df[\"ARRSTN\"]].shape"
            ]
        },
        {
            "cell_type": "code",
            "execution_count": null,
            "metadata": {},
            "outputs": [],
            "source": [
                "# Start with a basic boxplot\n",
                "sns.boxplot(x=\"flight_route\", y=\"target\", data=df[(df['flight_route']==\"TUNORY\") | (df['flight_route']==\"ORYTUN\") | (df['flight_route']==\"TUNTUN\")])\n",
                "\n",
                "# add title\n",
                "plt.title(\"Flight delay time for 3 most frequent flight routes\")\n",
                "plt.ylim(-5, 140)\n",
                "\n",
                "# show the graph\n",
                "plt.show()"
            ]
        },
        {
            "cell_type": "code",
            "execution_count": null,
            "metadata": {},
            "outputs": [],
            "source": [
                "# Get top 5 flight routes with most delay time\n",
                "top_categories = df.groupby('flight_route')['target'].sum().nlargest(5)\n",
                "\n",
                "print(top_categories)"
            ]
        },
        {
            "cell_type": "code",
            "execution_count": null,
            "metadata": {},
            "outputs": [],
            "source": [
                "print(\"ORYTUN contribution to total delay time in %: \", round((487348/df[\"target\"].sum())*100, 2))"
            ]
        },
        {
            "cell_type": "code",
            "execution_count": null,
            "metadata": {},
            "outputs": [],
            "source": [
                "# Start with a basic boxplot\n",
                "sns.boxplot(x=\"flight_route\", y=\"target\", data=df[(df['flight_route']==\"ORYTUN\") | (df['flight_route']==\"TUNORY\") | (df['flight_route']==\"ISTTUN\")])\n",
                "\n",
                "# add title\n",
                "plt.title(\"Top 3 flight routes with most delay time\")\n",
                "plt.ylim(-5, 140)\n",
                "\n",
                "# show the graph\n",
                "plt.show()"
            ]
        },
        {
            "cell_type": "code",
            "execution_count": null,
            "metadata": {},
            "outputs": [],
            "source": [
                "df = df.drop(\"flight_route\", axis=1)"
            ]
        },
        {
            "cell_type": "markdown",
            "metadata": {},
            "source": [
                "## Data cleaning"
            ]
        },
        {
            "cell_type": "code",
            "execution_count": null,
            "metadata": {
                "tags": []
            },
            "outputs": [],
            "source": [
                "# Clean column names\n",
                "df.columns = df.columns.str.replace(' ','_')\n",
                "df.columns = df.columns.str.lower()"
            ]
        },
        {
            "cell_type": "markdown",
            "metadata": {},
            "source": [
                "Feature 'ac' holds information about the model of the airplane. Extracting and converting the information."
            ]
        },
        {
            "cell_type": "code",
            "execution_count": null,
            "metadata": {
                "tags": []
            },
            "outputs": [],
            "source": [
                "df['airplane_model'] = df['ac'].str[3:6]\n",
                "df.head()"
            ]
        },
        {
            "cell_type": "code",
            "execution_count": null,
            "metadata": {
                "tags": []
            },
            "outputs": [],
            "source": [
                "# EDA Uniques\n",
                "unique_counts = pd.DataFrame(df.nunique(), columns=['Amount']).sort_values('Amount', ascending=False).T\n",
                "unique_counts"
            ]
        },
        {
            "cell_type": "code",
            "execution_count": null,
            "metadata": {
                "tags": []
            },
            "outputs": [],
            "source": [
                "set(df['airplane_model'])"
            ]
        },
        {
            "cell_type": "code",
            "execution_count": null,
            "metadata": {
                "tags": []
            },
            "outputs": [],
            "source": [
                "replacement_dict = {\n",
                "    '31A': 'Airbus',\n",
                "    '31B': 'Airbus',\n",
                "    '320': 'Airbus',\n",
                "    '321': 'Airbus',\n",
                "    '32A': 'Airbus',\n",
                "    '332': 'Airbus',\n",
                "    '343': 'Airbus',\n",
                "    '345': 'Airbus',\n",
                "    '733': 'Boeing',\n",
                "    '734': 'Boeing',\n",
                "    '736': 'Boeing',\n",
                "    'AT7': 'ATR',\n",
                "    'CR9': 'Bombardier'\n",
                "}\n",
                "\n",
                "df['producer'] = df['airplane_model']\n",
                "\n",
                "# Replace values in the 'purpose' column\n",
                "df['producer'] = df['producer'].replace(replacement_dict)\n"
            ]
        },
        {
            "cell_type": "code",
            "execution_count": null,
            "metadata": {
                "tags": []
            },
            "outputs": [],
            "source": [
                "df.head()"
            ]
        },
        {
            "cell_type": "code",
            "execution_count": null,
            "metadata": {},
            "outputs": [],
            "source": [
                "df['airline_1'] = df['fltid'].str[0:2]\n",
                "df.head()"
            ]
        },
        {
            "cell_type": "code",
            "execution_count": null,
            "metadata": {},
            "outputs": [],
            "source": [
                "set(df['airline_1'])"
            ]
        },
        {
            "cell_type": "code",
            "execution_count": null,
            "metadata": {},
            "outputs": [],
            "source": [
                "df['airline_2'] = df['ac'].str[0:2]\n",
                "df.head()"
            ]
        },
        {
            "cell_type": "code",
            "execution_count": null,
            "metadata": {},
            "outputs": [],
            "source": [
                "set(df['airline_2'])"
            ]
        },
        {
            "cell_type": "code",
            "execution_count": null,
            "metadata": {},
            "outputs": [],
            "source": [
                "df.head()"
            ]
        },
        {
            "cell_type": "markdown",
            "metadata": {},
            "source": [
                "Load airpots data set and clean. "
            ]
        },
        {
            "cell_type": "markdown",
            "metadata": {},
            "source": [
                "Merge data sets based on airport short handle. "
            ]
        },
        {
            "cell_type": "code",
            "execution_count": null,
            "metadata": {},
            "outputs": [],
            "source": [
                "# Add columns with weekdays, yyyy, mm, dd, hh:mm:ss\n",
                "\n",
                "y = '_year'\n",
                "m = '_month'\n",
                "wd = '_wd'\n",
                "M = '_min'\n",
                "\n",
                "### std ###\n",
                "\n",
                "date = 'std'\n",
                "\n",
                "idx = df.columns.get_loc(date)\n",
                "\n",
                "df[date] = pd.to_datetime(df[date], format='%Y-%m-%d %H:%M:%S')\n",
                "df.insert(loc=idx+1, column=date+y, value=df[date].dt.strftime('%Y')) # year yyyy\n",
                "df.insert(loc=idx+2, column=date+m, value=df[date].dt.strftime('%#m')) # month m\n",
                "df.insert(loc=idx+3, column=date+wd, value=df[date].dt.strftime('%w')) # weekday wd\n",
                "h = df[date].dt.strftime('%#H').astype(int) # hours\n",
                "minutes = df[date].dt.strftime('%#M').astype(int) # minutes\n",
                "# calcualte time in just minutes\n",
                "t = 60*h + minutes\n",
                "df.insert(loc=idx+4, column=date+M, value=t) # minutes\n",
                "\n",
                "### sta ###\n",
                "\n",
                "date = 'sta'\n",
                "\n",
                "idx = df.columns.get_loc(date)\n",
                "\n",
                "df[date] = pd.to_datetime(df[date], format='%Y-%m-%d %H.%M.%S')\n",
                "df.insert(loc=idx+1, column=date+y, value=df[date].dt.strftime('%Y')) # year yyyy\n",
                "df.insert(loc=idx+2, column=date+m, value=df[date].dt.strftime('%#m')) # month m\n",
                "df.insert(loc=idx+3, column=date+wd, value=df[date].dt.strftime('%w')) # weekday wd\n",
                "h = df[date].dt.strftime('%#H').astype(int) # hours\n",
                "minutes = df[date].dt.strftime('%#M').astype(int)\n",
                "# calcualte time in just minutes\n",
                "t = 60*h + minutes\n",
                "df.insert(loc=idx+4, column=date+M, value=t) # minutes\n",
                "\n",
                "### datop ###\n",
                "\n",
                "date = 'datop'\n",
                "\n",
                "idx = df.columns.get_loc(date)\n",
                "\n",
                "df[date] = pd.to_datetime(df[date], format='%Y-%m-%d')\n",
                "df.insert(loc=idx+1, column=date+y, value=df[date].dt.strftime('%Y')) # year yyyy\n",
                "df.insert(loc=idx+2, column=date+m, value=df[date].dt.strftime('%#m')) # month m\n",
                "df.insert(loc=idx+3, column=date+wd, value=df[date].dt.strftime('%w')) # weekday wd\n",
                "\n",
                "# convert new columns as integers\n",
                "list = ['std_year', 'std_month', 'std_wd', 'sta_year', 'sta_month', 'sta_wd', 'datop_year', 'datop_month', 'datop_wd', 'target']\n",
                "\n",
                "for date in list:\n",
                "    df[date] = df[date].astype(int)\n",
                "\n",
                "# change weekday numbers to EU where day 1 = Monday\n",
                "list = ['std_wd', 'sta_wd', 'datop_wd']\n",
                "\n",
                "for date in list:\n",
                "    df[date][df[date] == 0] = 7 # Sunday"
            ]
        },
        {
            "cell_type": "markdown",
            "metadata": {},
            "source": [
                "Geo-encoding of airports"
            ]
        },
        {
            "cell_type": "code",
            "execution_count": null,
            "metadata": {},
            "outputs": [],
            "source": [
                "# Load csv\n",
                "df_airports = pd.read_csv('data/airports.csv')\n",
                "df_airports.columns = ['id', 'name', 'city', 'country', 'short', 'rubbish_6', 'latitude', 'longitude', 'rubbish_1', 'rubbish_2', 'rubbish_3', 'rubbish_4', 'type', 'rubbish_5']\n",
                "df_airports = df_airports.drop(['id', 'name', 'rubbish_1', 'rubbish_2', 'rubbish_3', 'rubbish_4', 'rubbish_5', 'rubbish_6', 'type'], axis=1)\n",
                "df_airports = df_airports.dropna(subset=['short'])\n",
                "df_airports.head(3)\n"
            ]
        },
        {
            "cell_type": "code",
            "execution_count": null,
            "metadata": {},
            "outputs": [],
            "source": [
                "df = df.merge(df_airports, left_on='depstn', right_on='short', how='left', suffixes=('', '_dep'))\n",
                "\n",
                "# Merge based on arrival station\n",
                "df = df.merge(df_airports, left_on='arrstn', right_on='short', how='left', suffixes=('', '_arr'))\n",
                "\n",
                "# Rename columns for clarity\n",
                "df = df.rename(columns={\n",
                "    'city': 'city_dep',\n",
                "    'country': 'country_dep',\n",
                "    'latitude': 'latitude_dep',\n",
                "    'longitude': 'longitude_dep'\n",
                "})\n",
                "\n",
                "df.head(3)\n"
            ]
        },
        {
            "cell_type": "code",
            "execution_count": null,
            "metadata": {},
            "outputs": [],
            "source": [
                "df = df.drop_duplicates(subset='id', keep='first')\n",
                "df.shape"
            ]
        },
        {
            "cell_type": "code",
            "execution_count": null,
            "metadata": {},
            "outputs": [],
            "source": [
                "(df[(df[\"datop_year\"]==df[\"std_year\"])&(df[\"datop_month\"]==df[\"std_month\"])&(df[\"datop_wd\"]==df[\"std_wd\"])]).shape"
            ]
        },
        {
            "cell_type": "code",
            "execution_count": null,
            "metadata": {},
            "outputs": [],
            "source": [
                "# EDA info & describe\n",
                "info = pd.concat([\n",
                "df.dtypes.to_frame().T,\n",
                "df.mean(numeric_only=True).to_frame().T,\n",
                "df.std(numeric_only=True).to_frame().T,\n",
                "df.min(numeric_only=True).to_frame().T,\n",
                "df.quantile(0.25, numeric_only=True).to_frame().T,\n",
                "df.quantile(0.5, numeric_only=True).to_frame().T, \n",
                "df.quantile(0.75, numeric_only=True).to_frame().T,\n",
                "df.max(numeric_only=True).to_frame().T,], ignore_index=True).applymap(lambda x: round(x, 1) if isinstance(x, (int, float)) else x)\n",
                "\n",
                "info.insert(0, 'statistic', ['dtype', 'mean', 'std', 'min', '25%', '50%', '75%', 'max'])\n",
                "info"
            ]
        },
        {
            "cell_type": "code",
            "execution_count": null,
            "metadata": {},
            "outputs": [],
            "source": [
                "df.head(3)"
            ]
        },
        {
            "cell_type": "code",
            "execution_count": null,
            "metadata": {},
            "outputs": [],
            "source": [
                "# Your existing code to create the scatter plot\n",
                "fig = px.scatter_mapbox(df, lat=\"latitude_arr\", lon=\"longitude_arr\", \n",
                "                        color_discrete_sequence=[\"teal\"], zoom=3)\n",
                "\n",
                "# Custom mapbox style with opacity\n",
                "mapbox_style = {\n",
                "    \"version\": 8,\n",
                "    \"sources\": {\n",
                "        \"osm\": {\n",
                "            \"type\": \"raster\",\n",
                "            \"tiles\": [\"https://a.tile.openstreetmap.org/{z}/{x}/{y}.png\"],\n",
                "            \"tileSize\": 256,\n",
                "            \"attribution\": \"&copy; OpenStreetMap Contributors\",\n",
                "            \"maxzoom\": 19\n",
                "        }\n",
                "    },\n",
                "    \"layers\": [{\n",
                "        \"id\": \"osm\",\n",
                "        \"type\": \"raster\",\n",
                "        \"source\": \"osm\",\n",
                "        \"paint\": {\"raster-opacity\": 0.6}  # Set the opacity here\n",
                "    }]\n",
                "}\n",
                "\n",
                "# Update layout with custom mapbox style\n",
                "fig.update_layout(mapbox_style=mapbox_style)\n",
                "\n",
                "# Your existing layout updates\n",
                "fig.update_layout(width=1200, height=800)\n",
                "fig.update_layout(title=\"Distribution of airports\", title_x=0.5)\n",
                "\n",
                "fig.show()"
            ]
        },
        {
            "cell_type": "code",
            "execution_count": null,
            "metadata": {},
            "outputs": [],
            "source": [
                "df.to_csv('data/data.csv', index=False)"
            ]
        },
        {
            "cell_type": "markdown",
            "metadata": {
                "tags": []
            },
            "source": [
                "## Feature engineering"
            ]
        },
        {
            "cell_type": "code",
            "execution_count": null,
            "metadata": {},
            "outputs": [],
            "source": [
                "df = df.drop(['datop_year', 'datop_month', 'datop_wd', 'datop', 'fltid', 'std', 'sta', 'ac', 'short', 'short_arr', 'city_dep', 'country_dep', 'city_arr', 'country_arr', 'airline_2', 'producer'], axis=1)\n",
                "df.head(3)"
            ]
        },
        {
            "cell_type": "code",
            "execution_count": null,
            "metadata": {},
            "outputs": [],
            "source": [
                "# List of columns to encode\n",
                "columns_to_encode = ['depstn', 'status', 'arrstn', 'airline_1', 'airplane_model'] # reduced by aggressive feature drop\n",
                "\n",
                "# Create a copy of the original dataframe\n",
                "df_encoded = df.copy()\n",
                "\n",
                "# Encode each column separately\n",
                "for column in columns_to_encode:\n",
                "    lb = LabelBinarizer()\n",
                "    encoded = lb.fit_transform(df[column])\n",
                "    \n",
                "    # If binary classification, create a single column\n",
                "    if len(lb.classes_) == 2:\n",
                "        df_encoded[f'{column}_encoded'] = encoded\n",
                "    else:\n",
                "        # For multiclass, create multiple columns\n",
                "        encoded_df = pd.DataFrame(encoded, columns=[f'{column}_{cls}' for cls in lb.classes_], index=df.index)\n",
                "        df_encoded = pd.concat([df_encoded, encoded_df], axis=1)\n",
                "\n",
                "df_encoded = df_encoded.drop(column, axis=1)\n",
                "\n",
                "# Now, combine the non-encoded columns from df with the encoded columns from df_encoded\n",
                "df = pd.concat([df, df_encoded], axis=1)\n"
            ]
        },
        {
            "cell_type": "code",
            "execution_count": null,
            "metadata": {},
            "outputs": [],
            "source": [
                "df = df.drop(['depstn', 'arrstn', 'status', 'airline_1', 'airplane_model'], axis=1) # reduced by aggressive feature drop\n",
                "duplicate_columns = df.columns[df.columns.duplicated()]\n",
                "df = df.loc[:, ~df.columns.duplicated()]"
            ]
        },
        {
            "cell_type": "markdown",
            "metadata": {},
            "source": [
                "##### Target engineering"
            ]
        },
        {
            "cell_type": "code",
            "execution_count": null,
            "metadata": {},
            "outputs": [],
            "source": [
                "# Convert target into certain category intervals\n",
                "\n",
                "def target_interval(row):\n",
                "    if row['target'] == 0:\n",
                "        return 1\n",
                "    elif 0 < row['target'] <= 30:\n",
                "        return 2\n",
                "    elif 30 < row['target'] <= 60:\n",
                "        return 3\n",
                "    elif 60 < row['target'] <= 120:\n",
                "        return 4\n",
                "    elif 120 < row['target'] <= 240:\n",
                "        return 5   \n",
                "    else:\n",
                "        return 6  \n",
                "    \n",
                "df['target_cat'] = df.apply(target_interval, axis=1)"
            ]
        },
        {
            "cell_type": "code",
            "execution_count": null,
            "metadata": {
                "tags": []
            },
            "outputs": [],
            "source": [
                "sns.histplot(data=df['target_cat'])"
            ]
        },
        {
            "cell_type": "code",
            "execution_count": null,
            "metadata": {},
            "outputs": [],
            "source": [
                "df.head(3)"
            ]
        },
        {
            "cell_type": "markdown",
            "metadata": {},
            "source": [
                "##### Standardization"
            ]
        },
        {
            "cell_type": "code",
            "execution_count": null,
            "metadata": {},
            "outputs": [],
            "source": [
                "# Create a StandardScaler object\n",
                "scaler = StandardScaler()\n",
                "\n",
                "# Fit and transform only the specified columns\n",
                "columns_to_standardize = ['std_year', 'std_month', 'std_wd', 'std_min', 'sta_year', 'sta_month', 'sta_wd', 'sta_min', 'latitude_dep', 'longitude_dep', 'latitude_arr', 'longitude_arr']  # Replace with your actual column names\n",
                "df[columns_to_standardize] = scaler.fit_transform(df[columns_to_standardize])"
            ]
        },
        {
            "cell_type": "code",
            "execution_count": null,
            "metadata": {},
            "outputs": [],
            "source": [
                "df = df.drop_duplicates(subset=['id'], keep='first')\n",
                "df.shape"
            ]
        },
        {
            "cell_type": "markdown",
            "metadata": {},
            "source": [
                "## Splitting data for testing "
            ]
        },
        {
            "cell_type": "code",
            "execution_count": null,
            "metadata": {},
            "outputs": [],
            "source": [
                "# Define features and target variable (target)\n",
                "X = df.drop(['target', 'id', 'target_cat'], axis=1)\n",
                "y = df['target_cat']\n",
                "\n",
                "# Split into train and test set\n",
                "X_train, X_test, y_train, y_test = train_test_split(X, y, stratify=y, test_size=0.2, random_state=RSEED)"
            ]
        },
        {
            "cell_type": "markdown",
            "metadata": {},
            "source": [
                "##### Interrupting kernel before model training"
            ]
        },
        {
            "cell_type": "code",
            "execution_count": null,
            "metadata": {},
            "outputs": [],
            "source": [
                "sys.exit()"
            ]
        },
        {
            "cell_type": "markdown",
            "metadata": {},
            "source": [
                "## Trainining the model"
            ]
        },
        {
            "cell_type": "markdown",
            "metadata": {},
            "source": [
                "#### Baseline model: LogisticRegression"
            ]
        },
        {
            "cell_type": "code",
            "execution_count": null,
            "metadata": {},
            "outputs": [],
            "source": [
                "# Instantiate and train linear regression model\n",
                "model_0 = LogisticRegression(max_iter=100)\n",
                "model_0.fit(X_train, y_train) "
            ]
        },
        {
            "cell_type": "code",
            "execution_count": null,
            "metadata": {},
            "outputs": [],
            "source": [
                "y_pred_train = model_0.predict(X_train)\n",
                "y_pred_test = model_0.predict(X_test)"
            ]
        },
        {
            "cell_type": "code",
            "execution_count": null,
            "metadata": {},
            "outputs": [],
            "source": [
                "# Save the model\n",
                "dump(model_0, 'models/model_0.joblib')"
            ]
        },
        {
            "cell_type": "code",
            "execution_count": null,
            "metadata": {},
            "outputs": [],
            "source": [
                "# Load model\n",
                "model_0 = load('models/model_0.joblib')"
            ]
        },
        {
            "cell_type": "markdown",
            "metadata": {},
            "source": [
                "##### Evaluation"
            ]
        },
        {
            "cell_type": "code",
            "execution_count": null,
            "metadata": {},
            "outputs": [],
            "source": [
                "# Calculate Confusion Matrix\n",
                "conf_matrix = confusion_matrix(y_test, y_pred_test)\n",
                "\n",
                "# Create confusion matrix\n",
                "conf_matrixf = pd.DataFrame(conf_matrix)\n",
                "\n",
                "# Plot confusion matrix\n",
                "plt.figure(figsize=(10,7))\n",
                "sns.heatmap(conf_matrixf, annot=True, fmt='d', cmap='YlGnBu')\n",
                "plt.xlabel('Predicted')\n",
                "plt.ylabel('True')\n",
                "plt.title('Confusion Matrix')\n",
                "plt.show()\n",
                "\n",
                "# Calculate Precision\n",
                "precision_train = precision_score(y_train, y_pred_train, average='weighted')\n",
                "precision_test = precision_score(y_test, y_pred_test, average='weighted')\n",
                "print('Precision (train): ', round(precision_train, 2))\n",
                "print('Precision (test): ', round(precision_test, 2))\n",
                "\n",
                "# Calculate Recall\n",
                "recall_train = recall_score(y_train, y_pred_train, average='weighted')\n",
                "recall_test = recall_score(y_test, y_pred_test, average='weighted')\n",
                "print('Recall (train): ', round(recall_train, 2))\n",
                "print('Recall (test): ', round(recall_test, 2))\n",
                "\n",
                "# Calculate F1 Score\n",
                "f1_train = f1_score(y_train, y_pred_train, average='weighted')\n",
                "f1_test = f1_score(y_test, y_pred_test, average='weighted')\n",
                "print('F1 Score (train): ', round(f1_train, 2))\n",
                "print('F1 Score (test): ', round(f1_test, 2))"
            ]
        },
        {
            "cell_type": "code",
            "execution_count": null,
            "metadata": {},
            "outputs": [],
            "source": [
                "# Calculate Classification Report\n",
                "classification_train = classification_report(y_train, y_pred_train)\n",
                "classification_test = classification_report(y_test, y_pred_test)\n",
                "print('Classification Report (train): ', classification_train)\n",
                "print('Classification Report (test): ', classification_test)"
            ]
        },
        {
            "cell_type": "markdown",
            "metadata": {},
            "source": [
                "#### Model 1: SGDClassifier"
            ]
        },
        {
            "cell_type": "code",
            "execution_count": null,
            "metadata": {},
            "outputs": [],
            "source": [
                "# Instantiate and train SGDClassifier model\n",
                "model_1 = SGDClassifier(random_state=RSEED)\n",
                "model_1.fit(X_train, y_train)"
            ]
        },
        {
            "cell_type": "markdown",
            "metadata": {},
            "source": [
                "##### RandomizedSearchCV"
            ]
        },
        {
            "cell_type": "code",
            "execution_count": null,
            "metadata": {},
            "outputs": [],
            "source": [
                "# # Define the parameter distribution for random search\n",
                "# param_dist = {\n",
                "#     'penalty': ['l2', 'l1', 'elasticnet', None],\n",
                "#     'alpha': loguniform(1e-2, 1e0),\n",
                "#     'learning_rate': ['constant', 'optimal', 'invscaling', 'adaptive']\n",
                "# }\n",
                "\n",
                "# # Create a base model\n",
                "# #base_estimator = DecisionTreeClassifier(random_state=RSEED)\n",
                "# SGD = SGDClassifier(random_state=RSEED)\n",
                "\n",
                "# # Create a custom scorer (you can change this to other metrics if needed)\n",
                "# scorer = make_scorer(f1_score)\n",
                "\n",
                "# # Instantiate RandomizedSearchCV object\n",
                "# random_search = RandomizedSearchCV(\n",
                "#     estimator=SGD,\n",
                "#     param_distributions=param_dist,\n",
                "#     n_iter=50,  # Reduced number of iterations\n",
                "#     cv=3,  # Reduced number of cross-validation folds\n",
                "#     scoring=scorer,\n",
                "#     random_state=RSEED,\n",
                "#     n_jobs=-1  # use all available cores\n",
                "# )\n",
                "\n",
                "# # Fit RandomizedSearchCV\n",
                "# random_search.fit(X_train, y_train)\n",
                "\n",
                "# # Print the best parameters and score\n",
                "# print(\"Best parameters:\", random_search.best_params_)\n",
                "# print(\"Best cross-validation score:\", random_search.best_score_)\n",
                "\n",
                "# # Get the best model\n",
                "# model_1 = random_search.best_estimator_"
            ]
        },
        {
            "cell_type": "code",
            "execution_count": null,
            "metadata": {},
            "outputs": [],
            "source": [
                "y_pred_train = model_1.predict(X_train)\n",
                "y_pred_test = model_1.predict(X_test)"
            ]
        },
        {
            "cell_type": "code",
            "execution_count": null,
            "metadata": {},
            "outputs": [],
            "source": [
                "# Save the model\n",
                "dump(model_1, 'models/model_1.joblib')"
            ]
        },
        {
            "cell_type": "code",
            "execution_count": 80,
            "metadata": {},
            "outputs": [],
            "source": [
                "# Load model\n",
                "model_1 = load('models/model_1.joblib')"
            ]
        },
        {
            "cell_type": "markdown",
            "metadata": {},
            "source": [
                "##### Evaluation"
            ]
        },
        {
            "cell_type": "code",
            "execution_count": 109,
            "metadata": {},
            "outputs": [
                {
                    "data": {
                        "image/png": "[encoded data removed]",
                        "text/plain": [
                            "<Figure size 1000x700 with 2 Axes>"
                        ]
                    },
                    "metadata": {},
                    "output_type": "display_data"
                },
                {
                    "name": "stdout",
                    "output_type": "stream",
                    "text": [
                        "Precision (train):  0.78\n",
                        "Precision (test):  0.47\n",
                        "Recall (train):  0.77\n",
                        "Recall (test):  0.51\n",
                        "F1 Score (train):  0.76\n",
                        "F1 Score (test):  0.48\n"
                    ]
                }
            ],
            "source": [
                "# Calculate Confusion Matrix\n",
                "conf_matrix = confusion_matrix(y_test, y_pred_test)\n",
                "\n",
                "# Create confusion matrix\n",
                "conf_matrixf = pd.DataFrame(conf_matrix)\n",
                "\n",
                "# Plot confusion matrix\n",
                "plt.figure(figsize=(10,7))\n",
                "sns.heatmap(conf_matrixf, annot=True, fmt='d', cmap='YlGnBu')\n",
                "plt.xlabel('Predicted')\n",
                "plt.ylabel('True')\n",
                "plt.title('Confusion Matrix')\n",
                "plt.show()\n",
                "\n",
                "# Calculate Precision\n",
                "precision_train = precision_score(y_train, y_pred_train, average='weighted')\n",
                "precision_test = precision_score(y_test, y_pred_test, average='weighted')\n",
                "print('Precision (train): ', round(precision_train, 2))\n",
                "print('Precision (test): ', round(precision_test, 2))\n",
                "\n",
                "# Calculate Recall\n",
                "recall_train = recall_score(y_train, y_pred_train, average='weighted')\n",
                "recall_test = recall_score(y_test, y_pred_test, average='weighted')\n",
                "print('Recall (train): ', round(recall_train, 2))\n",
                "print('Recall (test): ', round(recall_test, 2))\n",
                "\n",
                "# Calculate F1 Score\n",
                "f1_train = f1_score(y_train, y_pred_train, average='weighted')\n",
                "f1_test = f1_score(y_test, y_pred_test, average='weighted')\n",
                "print('F1 Score (train): ', round(f1_train, 2))\n",
                "print('F1 Score (test): ', round(f1_test, 2))"
            ]
        },
        {
            "cell_type": "code",
            "execution_count": 110,
            "metadata": {},
            "outputs": [
                {
                    "name": "stdout",
                    "output_type": "stream",
                    "text": [
                        "Classification Report (train):                precision    recall  f1-score   support\n",
                        "\n",
                        "           1       0.86      0.87      0.86     30534\n",
                        "           2       0.68      0.89      0.77     27891\n",
                        "           3       0.75      0.60      0.67     12436\n",
                        "           4       0.84      0.48      0.61      5447\n",
                        "           5       0.82      0.52      0.63      6175\n",
                        "           6       0.87      0.53      0.66      3783\n",
                        "\n",
                        "    accuracy                           0.77     86266\n",
                        "   macro avg       0.80      0.65      0.70     86266\n",
                        "weighted avg       0.78      0.77      0.76     86266\n",
                        "\n",
                        "Classification Report (test):                precision    recall  f1-score   support\n",
                        "\n",
                        "           1       0.69      0.72      0.70      7634\n",
                        "           2       0.46      0.63      0.54      6973\n",
                        "           3       0.27      0.21      0.24      3109\n",
                        "           4       0.20      0.09      0.12      1362\n",
                        "           5       0.25      0.13      0.17      1543\n",
                        "           6       0.24      0.11      0.15       946\n",
                        "\n",
                        "    accuracy                           0.51     21567\n",
                        "   macro avg       0.35      0.31      0.32     21567\n",
                        "weighted avg       0.47      0.51      0.48     21567\n",
                        "\n"
                    ]
                }
            ],
            "source": [
                "# Calculate Classification Report\n",
                "classification_train = classification_report(y_train, y_pred_train)\n",
                "classification_test = classification_report(y_test, y_pred_test)\n",
                "print('Classification Report (train): ', classification_train)\n",
                "print('Classification Report (test): ', classification_test)"
            ]
        },
        {
            "cell_type": "markdown",
            "metadata": {},
            "source": [
                "#### Model 2: KNeighborsClassifier"
            ]
        },
        {
            "cell_type": "markdown",
            "metadata": {},
            "source": [
                "##### GridSearchCV"
            ]
        },
        {
            "cell_type": "markdown",
            "metadata": {},
            "source": [
                "param_grid = {\n",
                "    'n_neighbors': [3, 5, 7],\n",
                "    'weights': ['uniform', 'distance'],\n",
                "    'metric': ['euclidean', 'manhattan']\n",
                "}\n",
                "\n",
                "Best parameters: {'metric': 'manhattan', 'n_neighbors': 7, 'weights': 'uniform'}"
            ]
        },
        {
            "cell_type": "code",
            "execution_count": 70,
            "metadata": {},
            "outputs": [
                {
                    "data": {
                        "text/html": [
                            "<style>#sk-container-id-2 {color: black;background-color: white;}#sk-container-id-2 pre{padding: 0;}#sk-container-id-2 div.sk-toggleable {background-color: white;}#sk-container-id-2 label.sk-toggleable__label {cursor: pointer;display: block;width: 100%;margin-bottom: 0;padding: 0.3em;box-sizing: border-box;text-align: center;}#sk-container-id-2 label.sk-toggleable__label-arrow:before {content: \"▸\";float: left;margin-right: 0.25em;color: #696969;}#sk-container-id-2 label.sk-toggleable__label-arrow:hover:before {color: black;}#sk-container-id-2 div.sk-estimator:hover label.sk-toggleable__label-arrow:before {color: black;}#sk-container-id-2 div.sk-toggleable__content {max-height: 0;max-width: 0;overflow: hidden;text-align: left;background-color: #f0f8ff;}#sk-container-id-2 div.sk-toggleable__content pre {margin: 0.2em;color: black;border-radius: 0.25em;background-color: #f0f8ff;}#sk-container-id-2 input.sk-toggleable__control:checked~div.sk-toggleable__content {max-height: 200px;max-width: 100%;overflow: auto;}#sk-container-id-2 input.sk-toggleable__control:checked~label.sk-toggleable__label-arrow:before {content: \"▾\";}#sk-container-id-2 div.sk-estimator input.sk-toggleable__control:checked~label.sk-toggleable__label {background-color: #d4ebff;}#sk-container-id-2 div.sk-label input.sk-toggleable__control:checked~label.sk-toggleable__label {background-color: #d4ebff;}#sk-container-id-2 input.sk-hidden--visually {border: 0;clip: rect(1px 1px 1px 1px);clip: rect(1px, 1px, 1px, 1px);height: 1px;margin: -1px;overflow: hidden;padding: 0;position: absolute;width: 1px;}#sk-container-id-2 div.sk-estimator {font-family: monospace;background-color: #f0f8ff;border: 1px dotted black;border-radius: 0.25em;box-sizing: border-box;margin-bottom: 0.5em;}#sk-container-id-2 div.sk-estimator:hover {background-color: #d4ebff;}#sk-container-id-2 div.sk-parallel-item::after {content: \"\";width: 100%;border-bottom: 1px solid gray;flex-grow: 1;}#sk-container-id-2 div.sk-label:hover label.sk-toggleable__label {background-color: #d4ebff;}#sk-container-id-2 div.sk-serial::before {content: \"\";position: absolute;border-left: 1px solid gray;box-sizing: border-box;top: 0;bottom: 0;left: 50%;z-index: 0;}#sk-container-id-2 div.sk-serial {display: flex;flex-direction: column;align-items: center;background-color: white;padding-right: 0.2em;padding-left: 0.2em;position: relative;}#sk-container-id-2 div.sk-item {position: relative;z-index: 1;}#sk-container-id-2 div.sk-parallel {display: flex;align-items: stretch;justify-content: center;background-color: white;position: relative;}#sk-container-id-2 div.sk-item::before, #sk-container-id-2 div.sk-parallel-item::before {content: \"\";position: absolute;border-left: 1px solid gray;box-sizing: border-box;top: 0;bottom: 0;left: 50%;z-index: -1;}#sk-container-id-2 div.sk-parallel-item {display: flex;flex-direction: column;z-index: 1;position: relative;background-color: white;}#sk-container-id-2 div.sk-parallel-item:first-child::after {align-self: flex-end;width: 50%;}#sk-container-id-2 div.sk-parallel-item:last-child::after {align-self: flex-start;width: 50%;}#sk-container-id-2 div.sk-parallel-item:only-child::after {width: 0;}#sk-container-id-2 div.sk-dashed-wrapped {border: 1px dashed gray;margin: 0 0.4em 0.5em 0.4em;box-sizing: border-box;padding-bottom: 0.4em;background-color: white;}#sk-container-id-2 div.sk-label label {font-family: monospace;font-weight: bold;display: inline-block;line-height: 1.2em;}#sk-container-id-2 div.sk-label-container {text-align: center;}#sk-container-id-2 div.sk-container {/* jupyter's `normalize.less` sets `[hidden] { display: none; }` but bootstrap.min.css set `[hidden] { display: none !important; }` so we also need the `!important` here to be able to override the default hidden behavior on the sphinx rendered scikit-learn.org. See: https://github.com/scikit-learn/scikit-learn/issues/21755 */display: inline-block !important;position: relative;}#sk-container-id-2 div.sk-text-repr-fallback {display: none;}</style><div id=\"sk-container-id-2\" class=\"sk-top-container\"><div class=\"sk-text-repr-fallback\"><pre>KNeighborsClassifier(metric=&#x27;manhattan&#x27;, n_neighbors=7)</pre><b>In a Jupyter environment, please rerun this cell to show the HTML representation or trust the notebook. <br />On GitHub, the HTML representation is unable to render, please try loading this page with nbviewer.org.</b></div><div class=\"sk-container\" hidden><div class=\"sk-item\"><div class=\"sk-estimator sk-toggleable\"><input class=\"sk-toggleable__control sk-hidden--visually\" id=\"sk-estimator-id-2\" type=\"checkbox\" checked><label for=\"sk-estimator-id-2\" class=\"sk-toggleable__label sk-toggleable__label-arrow\">KNeighborsClassifier</label><div class=\"sk-toggleable__content\"><pre>KNeighborsClassifier(metric=&#x27;manhattan&#x27;, n_neighbors=7)</pre></div></div></div></div></div>"
                        ],
                        "text/plain": [
                            "KNeighborsClassifier(metric='manhattan', n_neighbors=7)"
                        ]
                    },
                    "execution_count": 70,
                    "metadata": {},
                    "output_type": "execute_result"
                }
            ],
            "source": [
                "# Instantiate and train KNeighborsClassifier\n",
                "#model_2 = KNeighborsClassifier(**grid_search.best_params_) # Get best parameters from grid search\n",
                "model_2 = KNeighborsClassifier(n_neighbors=7, weights='uniform', metric='manhattan')\n",
                "model_2.fit(X_train, y_train)"
            ]
        },
        {
            "cell_type": "code",
            "execution_count": null,
            "metadata": {},
            "outputs": [],
            "source": [
                "# Definition of hyperparameters\n",
                "param_grid = {\n",
                "    'n_neighbors': [3, 5, 7],\n",
                "    'weights': ['uniform', 'distance'],\n",
                "    'metric': ['euclidean', 'manhattan']\n",
                "}\n",
                "\n",
                "# GridSearchCV initiation\n",
                "grid_search = GridSearchCV(model_2, param_grid, cv=5)\n",
                "\n",
                "# Search for best parameters\n",
                "grid_search.fit(X_train, y_train)\n",
                "print(\"Best parameters:\", grid_search.best_params_)"
            ]
        },
        {
            "cell_type": "code",
            "execution_count": 71,
            "metadata": {},
            "outputs": [],
            "source": [
                "y_pred_train = model_2.predict(X_train)\n",
                "y_pred_test = model_2.predict(X_test)"
            ]
        },
        {
            "cell_type": "code",
            "execution_count": 72,
            "metadata": {},
            "outputs": [
                {
                    "data": {
                        "text/plain": [
                            "['models/model_2.joblib']"
                        ]
                    },
                    "execution_count": 72,
                    "metadata": {},
                    "output_type": "execute_result"
                }
            ],
            "source": [
                "# Save the model\n",
                "dump(model_2, 'models/model_2.joblib')"
            ]
        },
        {
            "cell_type": "code",
            "execution_count": 81,
            "metadata": {},
            "outputs": [],
            "source": [
                "# Load model\n",
                "model_2 = load('models/model_2.joblib')"
            ]
        },
        {
            "cell_type": "markdown",
            "metadata": {},
            "source": [
                "##### Evaluation"
            ]
        },
        {
            "cell_type": "code",
            "execution_count": 111,
            "metadata": {},
            "outputs": [
                {
                    "data": {
                        "image/png": "[encoded data removed]",
                        "text/plain": [
                            "<Figure size 1000x700 with 2 Axes>"
                        ]
                    },
                    "metadata": {},
                    "output_type": "display_data"
                },
                {
                    "name": "stdout",
                    "output_type": "stream",
                    "text": [
                        "Precision (train):  0.78\n",
                        "Precision (test):  0.47\n",
                        "Recall (train):  0.77\n",
                        "Recall (test):  0.51\n",
                        "F1 Score (train):  0.76\n",
                        "F1 Score (test):  0.48\n"
                    ]
                }
            ],
            "source": [
                "# Calculate Confusion Matrix\n",
                "conf_matrix = confusion_matrix(y_test, y_pred_test)\n",
                "\n",
                "# Create confusion matrix\n",
                "conf_matrixf = pd.DataFrame(conf_matrix)\n",
                "\n",
                "# Plot confusion matrix\n",
                "plt.figure(figsize=(10,7))\n",
                "sns.heatmap(conf_matrixf, annot=True, fmt='d', cmap='YlGnBu')\n",
                "plt.xlabel('Predicted')\n",
                "plt.ylabel('True')\n",
                "plt.title('Confusion Matrix')\n",
                "plt.show()\n",
                "\n",
                "# Calculate Precision\n",
                "precision_train = precision_score(y_train, y_pred_train, average='weighted')\n",
                "precision_test = precision_score(y_test, y_pred_test, average='weighted')\n",
                "print('Precision (train): ', round(precision_train, 2))\n",
                "print('Precision (test): ', round(precision_test, 2))\n",
                "\n",
                "# Calculate Recall\n",
                "recall_train = recall_score(y_train, y_pred_train, average='weighted')\n",
                "recall_test = recall_score(y_test, y_pred_test, average='weighted')\n",
                "print('Recall (train): ', round(recall_train, 2))\n",
                "print('Recall (test): ', round(recall_test, 2))\n",
                "\n",
                "# Calculate F1 Score\n",
                "f1_train = f1_score(y_train, y_pred_train, average='weighted')\n",
                "f1_test = f1_score(y_test, y_pred_test, average='weighted')\n",
                "print('F1 Score (train): ', round(f1_train, 2))\n",
                "print('F1 Score (test): ', round(f1_test, 2))"
            ]
        },
        {
            "cell_type": "code",
            "execution_count": null,
            "metadata": {},
            "outputs": [],
            "source": [
                "# Calculate Classification Report\n",
                "classification_train = classification_report(y_train, y_pred_train)\n",
                "classification_test = classification_report(y_test, y_pred_test)\n",
                "print('Classification Report (train): ', classification_train)\n",
                "print('Classification Report (test): ', classification_test)"
            ]
        },
        {
            "cell_type": "markdown",
            "metadata": {},
            "source": [
                "#### Model 3: Decision Tree Classifier"
            ]
        },
        {
            "cell_type": "code",
            "execution_count": null,
            "metadata": {},
            "outputs": [],
            "source": [
                "# Instantiate and train decision tree classifier on gini\n",
                "#model_3 = DecisionTreeClassifier(criterion='gini', random_state=RSEED)\n",
                "#model_3.fit(X_train, y_train)"
            ]
        },
        {
            "cell_type": "markdown",
            "metadata": {},
            "source": [
                "##### RandomizedSearchCV"
            ]
        },
        {
            "cell_type": "code",
            "execution_count": null,
            "metadata": {},
            "outputs": [],
            "source": [
                "# Define the parameter distribution for random search\n",
                "param_dist = {\n",
                "    'criterion': ['gini', 'entropy'],\n",
                "    'max_depth': randint(1, 20),\n",
                "    'min_samples_split': randint(2, 20),\n",
                "    'min_samples_leaf': randint(1, 20),\n",
                "    'max_features': uniform(0, 1)\n",
                "}\n",
                "\n",
                "# Create a base model\n",
                "dt = DecisionTreeClassifier(random_state=RSEED)\n",
                "\n",
                "# Create a custom scorer (you can change this to other metrics if needed)\n",
                "scorer = make_scorer(accuracy_score)\n",
                "\n",
                "# Instantiate RandomizedSearchCV object\n",
                "random_search = RandomizedSearchCV(\n",
                "    estimator=dt,\n",
                "    param_distributions=param_dist,\n",
                "    n_iter=100,  # number of parameter settings that are sampled\n",
                "    cv=5,  # number of cross-validation folds\n",
                "    scoring=scorer,\n",
                "    random_state=RSEED,\n",
                "    n_jobs=-1  # use all available cores\n",
                ")\n",
                "\n",
                "# Fit RandomizedSearchCV\n",
                "random_search.fit(X_train, y_train)\n",
                "\n",
                "# Print the best parameters and score\n",
                "print(\"Best parameters:\", random_search.best_params_)\n",
                "print(\"Best cross-validation score:\", random_search.best_score_)\n",
                "\n",
                "# Get the best model\n",
                "model_3 = random_search.best_estimator_"
            ]
        },
        {
            "cell_type": "code",
            "execution_count": null,
            "metadata": {},
            "outputs": [],
            "source": [
                "y_pred_train = model_3.predict(X_train)\n",
                "y_pred_test = model_3.predict(X_test)"
            ]
        },
        {
            "cell_type": "code",
            "execution_count": null,
            "metadata": {},
            "outputs": [],
            "source": [
                "# Save the model\n",
                "dump(model_3, 'models/model_3.joblib')"
            ]
        },
        {
            "cell_type": "code",
            "execution_count": 82,
            "metadata": {},
            "outputs": [],
            "source": [
                "# Load model\n",
                "model_3 = load('models/model_3.joblib')"
            ]
        },
        {
            "cell_type": "markdown",
            "metadata": {},
            "source": [
                "##### Evaluation"
            ]
        },
        {
            "cell_type": "code",
            "execution_count": 112,
            "metadata": {},
            "outputs": [
                {
                    "data": {
                        "image/png": "[encoded data removed]",
                        "text/plain": [
                            "<Figure size 1000x700 with 2 Axes>"
                        ]
                    },
                    "metadata": {},
                    "output_type": "display_data"
                },
                {
                    "name": "stdout",
                    "output_type": "stream",
                    "text": [
                        "Precision (train):  0.78\n",
                        "Precision (test):  0.47\n",
                        "Recall (train):  0.77\n",
                        "Recall (test):  0.51\n",
                        "F1 Score (train):  0.76\n",
                        "F1 Score (test):  0.48\n"
                    ]
                }
            ],
            "source": [
                "# Calculate Confusion Matrix\n",
                "conf_matrix = confusion_matrix(y_test, y_pred_test)\n",
                "\n",
                "# Create confusion matrix\n",
                "conf_matrixf = pd.DataFrame(conf_matrix)\n",
                "\n",
                "# Plot confusion matrix\n",
                "plt.figure(figsize=(10,7))\n",
                "sns.heatmap(conf_matrixf, annot=True, fmt='d', cmap='YlGnBu')\n",
                "plt.xlabel('Predicted')\n",
                "plt.ylabel('True')\n",
                "plt.title('Confusion Matrix')\n",
                "plt.show()\n",
                "\n",
                "# Calculate Precision\n",
                "precision_train = precision_score(y_train, y_pred_train, average='weighted')\n",
                "precision_test = precision_score(y_test, y_pred_test, average='weighted')\n",
                "print('Precision (train): ', round(precision_train, 2))\n",
                "print('Precision (test): ', round(precision_test, 2))\n",
                "\n",
                "# Calculate Recall\n",
                "recall_train = recall_score(y_train, y_pred_train, average='weighted')\n",
                "recall_test = recall_score(y_test, y_pred_test, average='weighted')\n",
                "print('Recall (train): ', round(recall_train, 2))\n",
                "print('Recall (test): ', round(recall_test, 2))\n",
                "\n",
                "# Calculate F1 Score\n",
                "f1_train = f1_score(y_train, y_pred_train, average='weighted')\n",
                "f1_test = f1_score(y_test, y_pred_test, average='weighted')\n",
                "print('F1 Score (train): ', round(f1_train, 2))\n",
                "print('F1 Score (test): ', round(f1_test, 2))"
            ]
        },
        {
            "cell_type": "code",
            "execution_count": null,
            "metadata": {},
            "outputs": [],
            "source": [
                "# Calculate Classification Report\n",
                "classification_train = classification_report(y_train, y_pred_train)\n",
                "classification_test = classification_report(y_test, y_pred_test)\n",
                "print('Classification Report (train): ', classification_train)\n",
                "print('Classification Report (test): ', classification_test)"
            ]
        },
        {
            "cell_type": "markdown",
            "metadata": {},
            "source": [
                "#### Model 4: Random Forest Classifier"
            ]
        },
        {
            "cell_type": "code",
            "execution_count": null,
            "metadata": {},
            "outputs": [],
            "source": [
                "# Instantiate and train Random Forest Classifier model\n",
                "model_4 = RandomForestClassifier(random_state=RSEED, max_features = 'sqrt', n_jobs=-1, verbose = 1)\n",
                "model_4.fit(X_train, y_train)"
            ]
        },
        {
            "cell_type": "markdown",
            "metadata": {},
            "source": [
                "##### GridSearchCV"
            ]
        },
        {
            "cell_type": "code",
            "execution_count": null,
            "metadata": {},
            "outputs": [],
            "source": [
                "# Definition of hyperparameters\n",
                "param_grid = {\n",
                "    'n_estimators': [100, 200, 700],\n",
                "    'max_depth': [10, 20, 30],\n",
                "    'max_features': ['auto', 'sqrt', 'log2']\n",
                "}\n",
                "\n",
                "# GridSearchCV initiation\n",
                "grid_search = GridSearchCV(model_4, param_grid, cv=5)\n",
                "\n",
                "# Search for best parameters\n",
                "grid_search.fit(X_train, y_train)\n",
                "print(\"Best parameters:\", grid_search.best_params_)"
            ]
        },
        {
            "cell_type": "markdown",
            "metadata": {},
            "source": [
                "param_grid = {\n",
                "    'n_estimators': [100, 200, 700],\n",
                "    'max_depth': [10, 20, 30],\n",
                "    'max_features': ['auto', 'sqrt', 'log2']\n",
                "}\n",
                "\n",
                "Best parameters: "
            ]
        },
        {
            "cell_type": "code",
            "execution_count": null,
            "metadata": {},
            "outputs": [],
            "source": [
                "y_pred_train = model_4.predict(X_train)\n",
                "y_pred_test = model_4.predict(X_test)"
            ]
        },
        {
            "cell_type": "code",
            "execution_count": null,
            "metadata": {},
            "outputs": [],
            "source": [
                "# Save the model\n",
                "dump(model_4, 'models/model_4.joblib')"
            ]
        },
        {
            "cell_type": "code",
            "execution_count": 83,
            "metadata": {},
            "outputs": [],
            "source": [
                "# Load model\n",
                "model_4 = load('models/model_4.joblib')"
            ]
        },
        {
            "cell_type": "markdown",
            "metadata": {},
            "source": [
                "##### Evaluation"
            ]
        },
        {
            "cell_type": "code",
            "execution_count": 113,
            "metadata": {},
            "outputs": [
                {
                    "data": {
                        "image/png": "[encoded data removed]",
                        "text/plain": [
                            "<Figure size 1000x700 with 2 Axes>"
                        ]
                    },
                    "metadata": {},
                    "output_type": "display_data"
                },
                {
                    "name": "stdout",
                    "output_type": "stream",
                    "text": [
                        "Precision (train):  0.78\n",
                        "Precision (test):  0.47\n",
                        "Recall (train):  0.77\n",
                        "Recall (test):  0.51\n",
                        "F1 Score (train):  0.76\n",
                        "F1 Score (test):  0.48\n"
                    ]
                }
            ],
            "source": [
                "# Calculate Confusion Matrix\n",
                "conf_matrix = confusion_matrix(y_test, y_pred_test)\n",
                "\n",
                "# Create confusion matrix\n",
                "conf_matrixf = pd.DataFrame(conf_matrix)\n",
                "\n",
                "# Plot confusion matrix\n",
                "plt.figure(figsize=(10,7))\n",
                "sns.heatmap(conf_matrixf, annot=True, fmt='d', cmap='YlGnBu')\n",
                "plt.xlabel('Predicted')\n",
                "plt.ylabel('True')\n",
                "plt.title('Confusion Matrix')\n",
                "plt.show()\n",
                "\n",
                "# Calculate Precision\n",
                "precision_train = precision_score(y_train, y_pred_train, average='weighted')\n",
                "precision_test = precision_score(y_test, y_pred_test, average='weighted')\n",
                "print('Precision (train): ', round(precision_train, 2))\n",
                "print('Precision (test): ', round(precision_test, 2))\n",
                "\n",
                "# Calculate Recall\n",
                "recall_train = recall_score(y_train, y_pred_train, average='weighted')\n",
                "recall_test = recall_score(y_test, y_pred_test, average='weighted')\n",
                "print('Recall (train): ', round(recall_train, 2))\n",
                "print('Recall (test): ', round(recall_test, 2))\n",
                "\n",
                "# Calculate F1 Score\n",
                "f1_train = f1_score(y_train, y_pred_train, average='weighted')\n",
                "f1_test = f1_score(y_test, y_pred_test, average='weighted')\n",
                "print('F1 Score (train): ', round(f1_train, 2))\n",
                "print('F1 Score (test): ', round(f1_test, 2))"
            ]
        },
        {
            "cell_type": "code",
            "execution_count": null,
            "metadata": {},
            "outputs": [],
            "source": [
                "# Calculate Classification Report\n",
                "classification_train = classification_report(y_train, y_pred_train)\n",
                "classification_test = classification_report(y_test, y_pred_test)\n",
                "print('Classification Report (train): ', classification_train)\n",
                "print('Classification Report (test): ', classification_test)"
            ]
        },
        {
            "cell_type": "markdown",
            "metadata": {},
            "source": [
                "#### Model 5: XGBClassifier"
            ]
        },
        {
            "cell_type": "code",
            "execution_count": 74,
            "metadata": {},
            "outputs": [
                {
                    "data": {
                        "text/html": [
                            "<style>#sk-container-id-3 {color: black;background-color: white;}#sk-container-id-3 pre{padding: 0;}#sk-container-id-3 div.sk-toggleable {background-color: white;}#sk-container-id-3 label.sk-toggleable__label {cursor: pointer;display: block;width: 100%;margin-bottom: 0;padding: 0.3em;box-sizing: border-box;text-align: center;}#sk-container-id-3 label.sk-toggleable__label-arrow:before {content: \"▸\";float: left;margin-right: 0.25em;color: #696969;}#sk-container-id-3 label.sk-toggleable__label-arrow:hover:before {color: black;}#sk-container-id-3 div.sk-estimator:hover label.sk-toggleable__label-arrow:before {color: black;}#sk-container-id-3 div.sk-toggleable__content {max-height: 0;max-width: 0;overflow: hidden;text-align: left;background-color: #f0f8ff;}#sk-container-id-3 div.sk-toggleable__content pre {margin: 0.2em;color: black;border-radius: 0.25em;background-color: #f0f8ff;}#sk-container-id-3 input.sk-toggleable__control:checked~div.sk-toggleable__content {max-height: 200px;max-width: 100%;overflow: auto;}#sk-container-id-3 input.sk-toggleable__control:checked~label.sk-toggleable__label-arrow:before {content: \"▾\";}#sk-container-id-3 div.sk-estimator input.sk-toggleable__control:checked~label.sk-toggleable__label {background-color: #d4ebff;}#sk-container-id-3 div.sk-label input.sk-toggleable__control:checked~label.sk-toggleable__label {background-color: #d4ebff;}#sk-container-id-3 input.sk-hidden--visually {border: 0;clip: rect(1px 1px 1px 1px);clip: rect(1px, 1px, 1px, 1px);height: 1px;margin: -1px;overflow: hidden;padding: 0;position: absolute;width: 1px;}#sk-container-id-3 div.sk-estimator {font-family: monospace;background-color: #f0f8ff;border: 1px dotted black;border-radius: 0.25em;box-sizing: border-box;margin-bottom: 0.5em;}#sk-container-id-3 div.sk-estimator:hover {background-color: #d4ebff;}#sk-container-id-3 div.sk-parallel-item::after {content: \"\";width: 100%;border-bottom: 1px solid gray;flex-grow: 1;}#sk-container-id-3 div.sk-label:hover label.sk-toggleable__label {background-color: #d4ebff;}#sk-container-id-3 div.sk-serial::before {content: \"\";position: absolute;border-left: 1px solid gray;box-sizing: border-box;top: 0;bottom: 0;left: 50%;z-index: 0;}#sk-container-id-3 div.sk-serial {display: flex;flex-direction: column;align-items: center;background-color: white;padding-right: 0.2em;padding-left: 0.2em;position: relative;}#sk-container-id-3 div.sk-item {position: relative;z-index: 1;}#sk-container-id-3 div.sk-parallel {display: flex;align-items: stretch;justify-content: center;background-color: white;position: relative;}#sk-container-id-3 div.sk-item::before, #sk-container-id-3 div.sk-parallel-item::before {content: \"\";position: absolute;border-left: 1px solid gray;box-sizing: border-box;top: 0;bottom: 0;left: 50%;z-index: -1;}#sk-container-id-3 div.sk-parallel-item {display: flex;flex-direction: column;z-index: 1;position: relative;background-color: white;}#sk-container-id-3 div.sk-parallel-item:first-child::after {align-self: flex-end;width: 50%;}#sk-container-id-3 div.sk-parallel-item:last-child::after {align-self: flex-start;width: 50%;}#sk-container-id-3 div.sk-parallel-item:only-child::after {width: 0;}#sk-container-id-3 div.sk-dashed-wrapped {border: 1px dashed gray;margin: 0 0.4em 0.5em 0.4em;box-sizing: border-box;padding-bottom: 0.4em;background-color: white;}#sk-container-id-3 div.sk-label label {font-family: monospace;font-weight: bold;display: inline-block;line-height: 1.2em;}#sk-container-id-3 div.sk-label-container {text-align: center;}#sk-container-id-3 div.sk-container {/* jupyter's `normalize.less` sets `[hidden] { display: none; }` but bootstrap.min.css set `[hidden] { display: none !important; }` so we also need the `!important` here to be able to override the default hidden behavior on the sphinx rendered scikit-learn.org. See: https://github.com/scikit-learn/scikit-learn/issues/21755 */display: inline-block !important;position: relative;}#sk-container-id-3 div.sk-text-repr-fallback {display: none;}</style><div id=\"sk-container-id-3\" class=\"sk-top-container\"><div class=\"sk-text-repr-fallback\"><pre>XGBClassifier(base_score=None, booster=None, callbacks=None,\n",
                            "              colsample_bylevel=None, colsample_bynode=None,\n",
                            "              colsample_bytree=None, device=None, early_stopping_rounds=None,\n",
                            "              enable_categorical=False, eval_metric=None, feature_types=None,\n",
                            "              gamma=None, grow_policy=None, importance_type=None,\n",
                            "              interaction_constraints=None, learning_rate=None, max_bin=None,\n",
                            "              max_cat_threshold=None, max_cat_to_onehot=None,\n",
                            "              max_delta_step=None, max_depth=None, max_leaves=None,\n",
                            "              min_child_weight=None, missing=nan, monotone_constraints=None,\n",
                            "              multi_strategy=None, n_estimators=None, n_jobs=None,\n",
                            "              num_parallel_tree=None, objective=&#x27;multi:softprob&#x27;, ...)</pre><b>In a Jupyter environment, please rerun this cell to show the HTML representation or trust the notebook. <br />On GitHub, the HTML representation is unable to render, please try loading this page with nbviewer.org.</b></div><div class=\"sk-container\" hidden><div class=\"sk-item\"><div class=\"sk-estimator sk-toggleable\"><input class=\"sk-toggleable__control sk-hidden--visually\" id=\"sk-estimator-id-3\" type=\"checkbox\" checked><label for=\"sk-estimator-id-3\" class=\"sk-toggleable__label sk-toggleable__label-arrow\">XGBClassifier</label><div class=\"sk-toggleable__content\"><pre>XGBClassifier(base_score=None, booster=None, callbacks=None,\n",
                            "              colsample_bylevel=None, colsample_bynode=None,\n",
                            "              colsample_bytree=None, device=None, early_stopping_rounds=None,\n",
                            "              enable_categorical=False, eval_metric=None, feature_types=None,\n",
                            "              gamma=None, grow_policy=None, importance_type=None,\n",
                            "              interaction_constraints=None, learning_rate=None, max_bin=None,\n",
                            "              max_cat_threshold=None, max_cat_to_onehot=None,\n",
                            "              max_delta_step=None, max_depth=None, max_leaves=None,\n",
                            "              min_child_weight=None, missing=nan, monotone_constraints=None,\n",
                            "              multi_strategy=None, n_estimators=None, n_jobs=None,\n",
                            "              num_parallel_tree=None, objective=&#x27;multi:softprob&#x27;, ...)</pre></div></div></div></div></div>"
                        ],
                        "text/plain": [
                            "XGBClassifier(base_score=None, booster=None, callbacks=None,\n",
                            "              colsample_bylevel=None, colsample_bynode=None,\n",
                            "              colsample_bytree=None, device=None, early_stopping_rounds=None,\n",
                            "              enable_categorical=False, eval_metric=None, feature_types=None,\n",
                            "              gamma=None, grow_policy=None, importance_type=None,\n",
                            "              interaction_constraints=None, learning_rate=None, max_bin=None,\n",
                            "              max_cat_threshold=None, max_cat_to_onehot=None,\n",
                            "              max_delta_step=None, max_depth=None, max_leaves=None,\n",
                            "              min_child_weight=None, missing=nan, monotone_constraints=None,\n",
                            "              multi_strategy=None, n_estimators=None, n_jobs=None,\n",
                            "              num_parallel_tree=None, objective='multi:softprob', ...)"
                        ]
                    },
                    "execution_count": 74,
                    "metadata": {},
                    "output_type": "execute_result"
                }
            ],
            "source": [
                "# Instantiate and train XGBoost Classifier model\n",
                "model_5 = XGBClassifier(random_state=RSEED)\n",
                "model_5.fit(X_train, y_train - 1)"
            ]
        },
        {
            "cell_type": "code",
            "execution_count": 75,
            "metadata": {},
            "outputs": [],
            "source": [
                "y_pred_train = model_5.predict(X_train)\n",
                "y_pred_test = model_5.predict(X_test)"
            ]
        },
        {
            "cell_type": "code",
            "execution_count": 76,
            "metadata": {},
            "outputs": [
                {
                    "data": {
                        "text/plain": [
                            "['models/model_5.joblib']"
                        ]
                    },
                    "execution_count": 76,
                    "metadata": {},
                    "output_type": "execute_result"
                }
            ],
            "source": [
                "# Save the model\n",
                "dump(model_5, 'models/model_5.joblib')"
            ]
        },
        {
            "cell_type": "code",
            "execution_count": 84,
            "metadata": {},
            "outputs": [],
            "source": [
                "# Load model\n",
                "model_5 = load('models/model_5.joblib')"
            ]
        },
        {
            "cell_type": "markdown",
            "metadata": {},
            "source": [
                "##### Evaluation"
            ]
        },
        {
            "cell_type": "code",
            "execution_count": 77,
            "metadata": {},
            "outputs": [
                {
                    "data": {
                        "image/png": "[encoded data removed]",
                        "text/plain": [
                            "<Figure size 1000x700 with 2 Axes>"
                        ]
                    },
                    "metadata": {},
                    "output_type": "display_data"
                },
                {
                    "name": "stdout",
                    "output_type": "stream",
                    "text": [
                        "Precision (train):  0.56\n",
                        "Precision (test):  0.49\n",
                        "Recall (train):  0.56\n",
                        "Recall (test):  0.52\n",
                        "F1 Score (train):  0.52\n",
                        "F1 Score (test):  0.48\n"
                    ]
                }
            ],
            "source": [
                "# Calculate Confusion Matrix\n",
                "conf_matrix = confusion_matrix(y_test - 1, y_pred_test)\n",
                "\n",
                "# Create confusion matrix\n",
                "conf_matrixf = pd.DataFrame(conf_matrix)\n",
                "\n",
                "# Plot confusion matrix\n",
                "plt.figure(figsize=(10,7))\n",
                "sns.heatmap(conf_matrixf, annot=True, fmt='d', cmap='YlGnBu')\n",
                "plt.xlabel('Predicted')\n",
                "plt.ylabel('True')\n",
                "plt.title('Confusion Matrix')\n",
                "plt.show()\n",
                "\n",
                "# Calculate Precision\n",
                "precision_train = precision_score(y_train - 1, y_pred_train, average='weighted')\n",
                "precision_test = precision_score(y_test - 1, y_pred_test, average='weighted')\n",
                "print('Precision (train): ', round(precision_train, 2))\n",
                "print('Precision (test): ', round(precision_test, 2))\n",
                "\n",
                "# Calculate Recall\n",
                "recall_train = recall_score(y_train - 1, y_pred_train, average='weighted')\n",
                "recall_test = recall_score(y_test - 1, y_pred_test, average='weighted')\n",
                "print('Recall (train): ', round(recall_train, 2))\n",
                "print('Recall (test): ', round(recall_test, 2))\n",
                "\n",
                "# Calculate F1 Score\n",
                "f1_train = f1_score(y_train - 1, y_pred_train, average='weighted')\n",
                "f1_test = f1_score(y_test - 1, y_pred_test, average='weighted')\n",
                "print('F1 Score (train): ', round(f1_train, 2))\n",
                "print('F1 Score (test): ', round(f1_test, 2))"
            ]
        },
        {
            "cell_type": "code",
            "execution_count": 78,
            "metadata": {},
            "outputs": [
                {
                    "name": "stdout",
                    "output_type": "stream",
                    "text": [
                        "Classification Report (train):                precision    recall  f1-score   support\n",
                        "\n",
                        "           0       0.00      0.00      0.00         0\n",
                        "           1       0.18      0.27      0.21     30534\n",
                        "           2       0.19      0.04      0.07     27891\n",
                        "           3       0.17      0.01      0.03     12436\n",
                        "           4       0.12      0.05      0.07      5447\n",
                        "           5       0.17      0.03      0.05      6175\n",
                        "           6       0.00      0.00      0.00      3783\n",
                        "\n",
                        "    accuracy                           0.12     86266\n",
                        "   macro avg       0.12      0.06      0.06     86266\n",
                        "weighted avg       0.17      0.12      0.11     86266\n",
                        "\n",
                        "Classification Report (test):                precision    recall  f1-score   support\n",
                        "\n",
                        "           0       0.00      0.00      0.00         0\n",
                        "           1       0.19      0.29      0.23      7634\n",
                        "           2       0.25      0.05      0.09      6973\n",
                        "           3       0.21      0.02      0.03      3109\n",
                        "           4       0.13      0.05      0.07      1362\n",
                        "           5       0.23      0.04      0.07      1543\n",
                        "           6       0.00      0.00      0.00       946\n",
                        "\n",
                        "    accuracy                           0.13     21567\n",
                        "   macro avg       0.14      0.06      0.07     21567\n",
                        "weighted avg       0.20      0.13      0.12     21567\n",
                        "\n"
                    ]
                }
            ],
            "source": [
                "# Calculate Classification Report\n",
                "classification_train = classification_report(y_train, y_pred_train)\n",
                "classification_test = classification_report(y_test, y_pred_test)\n",
                "print('Classification Report (train): ', classification_train)\n",
                "print('Classification Report (test): ', classification_test)"
            ]
        },
        {
            "cell_type": "markdown",
            "metadata": {},
            "source": [
                "#### Model 6: Ada Boost"
            ]
        },
        {
            "cell_type": "code",
            "execution_count": null,
            "metadata": {},
            "outputs": [],
            "source": [
                "# Instantiate and train Ada Boost classifier\n",
                "#model_6 = AdaBoostClassifier(random_state=RSEED)\n",
                "#model_6.fit(X_train, y_train)"
            ]
        },
        {
            "cell_type": "markdown",
            "metadata": {},
            "source": [
                "##### RandomizedSearchCV"
            ]
        },
        {
            "cell_type": "code",
            "execution_count": null,
            "metadata": {},
            "outputs": [],
            "source": [
                "# Define the parameter distribution for random search\n",
                "param_dist = {\n",
                "    'n_estimators': randint(50, 100),  # Reduced upper bound\n",
                "    'learning_rate': uniform(0.01, 0.5),  # Reduced upper bound\n",
                "    'base_estimator__max_depth': randint(1, 5),  # Reduced upper bound\n",
                "    'base_estimator__min_samples_split': randint(2, 10),  # Reduced upper bound\n",
                "    'base_estimator__min_samples_leaf': randint(1, 10),  # Reduced upper bound\n",
                "    'algorithm': ['SAMME', 'SAMME.R']\n",
                "}\n",
                "\n",
                "# Create a base model\n",
                "base_estimator = DecisionTreeClassifier(random_state=RSEED)\n",
                "ada = AdaBoostClassifier(base_estimator=base_estimator, random_state=RSEED)\n",
                "\n",
                "# Create a custom scorer (you can change this to other metrics if needed)\n",
                "scorer = make_scorer(f1_score)\n",
                "\n",
                "# Instantiate RandomizedSearchCV object\n",
                "random_search = RandomizedSearchCV(\n",
                "    estimator=ada,\n",
                "    param_distributions=param_dist,\n",
                "    n_iter=50,  # Reduced number of iterations\n",
                "    cv=3,  # Reduced number of cross-validation folds\n",
                "    scoring=scorer,\n",
                "    random_state=RSEED,\n",
                "    n_jobs=-1  # use all available cores\n",
                ")\n",
                "\n",
                "# Fit RandomizedSearchCV\n",
                "random_search.fit(X_train, y_train)\n",
                "\n",
                "# Print the best parameters and score\n",
                "print(\"Best parameters:\", random_search.best_params_)\n",
                "print(\"Best cross-validation score:\", random_search.best_score_)\n",
                "\n",
                "# Get the best model\n",
                "model_6 = random_search.best_estimator_"
            ]
        },
        {
            "cell_type": "code",
            "execution_count": null,
            "metadata": {},
            "outputs": [],
            "source": [
                "y_pred_train = model_6.predict(X_train)\n",
                "y_pred_test = model_6.predict(X_test)"
            ]
        },
        {
            "cell_type": "code",
            "execution_count": null,
            "metadata": {},
            "outputs": [],
            "source": [
                "# Save the model\n",
                "dump(model_6, 'models/model_6.joblib')"
            ]
        },
        {
            "cell_type": "code",
            "execution_count": 85,
            "metadata": {},
            "outputs": [],
            "source": [
                "# Load model\n",
                "model_6 = load('models/model_6.joblib')"
            ]
        },
        {
            "cell_type": "markdown",
            "metadata": {},
            "source": [
                "##### Evaluation"
            ]
        },
        {
            "cell_type": "code",
            "execution_count": null,
            "metadata": {},
            "outputs": [],
            "source": [
                "# Calculate Confusion Matrix\n",
                "conf_matrix = confusion_matrix(y_test, y_pred_test)\n",
                "\n",
                "# Create confusion matrix\n",
                "conf_matrixf = pd.DataFrame(conf_matrix)\n",
                "\n",
                "# Plot confusion matrix\n",
                "plt.figure(figsize=(10,7))\n",
                "sns.heatmap(conf_matrixf, annot=True, fmt='d', cmap='YlGnBu')\n",
                "plt.xlabel('Predicted')\n",
                "plt.ylabel('True')\n",
                "plt.title('Confusion Matrix')\n",
                "plt.show()\n",
                "\n",
                "# Calculate Precision\n",
                "precision_train = precision_score(y_train, y_pred_train, average='weighted')\n",
                "precision_test = precision_score(y_test, y_pred_test, average='weighted')\n",
                "print('Precision (train): ', round(precision_train, 2))\n",
                "print('Precision (test): ', round(precision_test, 2))\n",
                "\n",
                "# Calculate Recall\n",
                "recall_train = recall_score(y_train, y_pred_train, average='weighted')\n",
                "recall_test = recall_score(y_test, y_pred_test, average='weighted')\n",
                "print('Recall (train): ', round(recall_train, 2))\n",
                "print('Recall (test): ', round(recall_test, 2))\n",
                "\n",
                "# Calculate F1 Score\n",
                "f1_train = f1_score(y_train, y_pred_train, average='weighted')\n",
                "f1_test = f1_score(y_test, y_pred_test, average='weighted')\n",
                "print('F1 Score (train): ', round(f1_train, 2))\n",
                "print('F1 Score (test): ', round(f1_test, 2))"
            ]
        },
        {
            "cell_type": "code",
            "execution_count": null,
            "metadata": {},
            "outputs": [],
            "source": [
                "# Calculate Classification Report\n",
                "classification_train = classification_report(y_train, y_pred_train)\n",
                "classification_test = classification_report(y_test, y_pred_test)\n",
                "print('Classification Report (train): ', classification_train)\n",
                "print('Classification Report (test): ', classification_test)"
            ]
        },
        {
            "cell_type": "markdown",
            "metadata": {},
            "source": [
                "#### Model 7: Bagging"
            ]
        },
        {
            "cell_type": "code",
            "execution_count": null,
            "metadata": {},
            "outputs": [],
            "source": [
                "# Instantiate and train Bagging Classifier with base model DecisionTreeClassifier\n",
                "#model_7 = BaggingClassifier(base_estimator=DecisionTreeClassifier(), n_estimators=10, random_state=RSEED)\n",
                "#model_7.fit(X_train, y_train)"
            ]
        },
        {
            "cell_type": "markdown",
            "metadata": {},
            "source": [
                "##### RandomizedSearchCV"
            ]
        },
        {
            "cell_type": "code",
            "execution_count": null,
            "metadata": {},
            "outputs": [],
            "source": [
                "# Define the parameter distribution for random search\n",
                "param_dist = {\n",
                "    'n_estimators': randint(10, 200),\n",
                "    'max_samples': uniform(0.5, 1.0),\n",
                "    'max_features': uniform(0.1, 1.0),  \n",
                "    'bootstrap': [True, False],\n",
                "    'bootstrap_features': [True, False],\n",
                "    'base_estimator__max_depth': randint(1, 20),\n",
                "    'base_estimator__min_samples_split': randint(2, 20),\n",
                "    'base_estimator__min_samples_leaf': randint(1, 20)\n",
                "}\n",
                "\n",
                "# Create a base model\n",
                "base_estimator = DecisionTreeClassifier(random_state=RSEED)\n",
                "bagging = BaggingClassifier(base_estimator=base_estimator, random_state=RSEED)\n",
                "\n",
                "# Create a custom scorer (you can change this to other metrics if needed)\n",
                "scorer = make_scorer(f1_score, average='weighted')  # Specify average for multi-class\n",
                "\n",
                "# Instantiate RandomizedSearchCV object\n",
                "random_search = RandomizedSearchCV(\n",
                "    estimator=bagging,\n",
                "    param_distributions=param_dist,\n",
                "    n_iter=100,  # number of parameter settings that are sampled\n",
                "    cv=5,  # number of cross-validation folds\n",
                "    scoring=scorer,\n",
                "    random_state=RSEED,\n",
                "    n_jobs=-1  # use all available cores\n",
                ")\n",
                "\n",
                "# Fit RandomizedSearchCV\n",
                "random_search.fit(X_train, y_train)\n",
                "\n",
                "# Print the best parameters and score\n",
                "print(\"Best parameters:\", random_search.best_params_)\n",
                "print(\"Best cross-validation score:\", random_search.best_score_)\n",
                "\n",
                "# Get the best model\n",
                "model_7 = random_search.best_estimator_"
            ]
        },
        {
            "cell_type": "code",
            "execution_count": null,
            "metadata": {},
            "outputs": [],
            "source": [
                "y_pred_train = model_7.predict(X_train)\n",
                "y_pred_test = model_7.predict(X_test)"
            ]
        },
        {
            "cell_type": "code",
            "execution_count": null,
            "metadata": {},
            "outputs": [],
            "source": [
                "# Save the model\n",
                "dump(model_7, 'models/model_7.joblib')"
            ]
        },
        {
            "cell_type": "code",
            "execution_count": 86,
            "metadata": {},
            "outputs": [],
            "source": [
                "# Load model\n",
                "model_7 = load('models/model_7.joblib')"
            ]
        },
        {
            "cell_type": "markdown",
            "metadata": {},
            "source": [
                "##### Evaluation"
            ]
        },
        {
            "cell_type": "code",
            "execution_count": null,
            "metadata": {},
            "outputs": [],
            "source": [
                "# Calculate Confusion Matrix\n",
                "conf_matrix = confusion_matrix(y_test, y_pred_test)\n",
                "\n",
                "# Create confusion matrix\n",
                "conf_matrixf = pd.DataFrame(conf_matrix)\n",
                "\n",
                "# Plot confusion matrix\n",
                "plt.figure(figsize=(10,7))\n",
                "sns.heatmap(conf_matrixf, annot=True, fmt='d', cmap='YlGnBu')\n",
                "plt.xlabel('Predicted')\n",
                "plt.ylabel('True')\n",
                "plt.title('Confusion Matrix')\n",
                "plt.show()\n",
                "\n",
                "# Calculate Precision\n",
                "precision_train = precision_score(y_train, y_pred_train, average='weighted')\n",
                "precision_test = precision_score(y_test, y_pred_test, average='weighted')\n",
                "print('Precision (train): ', round(precision_train, 2))\n",
                "print('Precision (test): ', round(precision_test, 2))\n",
                "\n",
                "# Calculate Recall\n",
                "recall_train = recall_score(y_train, y_pred_train, average='weighted')\n",
                "recall_test = recall_score(y_test, y_pred_test, average='weighted')\n",
                "print('Recall (train): ', round(recall_train, 2))\n",
                "print('Recall (test): ', round(recall_test, 2))\n",
                "\n",
                "# Calculate F1 Score\n",
                "f1_train = f1_score(y_train, y_pred_train, average='weighted')\n",
                "f1_test = f1_score(y_test, y_pred_test, average='weighted')\n",
                "print('F1 Score (train): ', round(f1_train, 2))\n",
                "print('F1 Score (test): ', round(f1_test, 2))"
            ]
        },
        {
            "cell_type": "code",
            "execution_count": null,
            "metadata": {},
            "outputs": [],
            "source": [
                "# Calculate Classification Report\n",
                "classification_train = classification_report(y_train, y_pred_train)\n",
                "classification_test = classification_report(y_test, y_pred_test)\n",
                "print('Classification Report (train): ', classification_train)\n",
                "print('Classification Report (test): ', classification_test)"
            ]
        },
        {
            "cell_type": "markdown",
            "metadata": {},
            "source": [
                "#### Model 8: Extra Trees"
            ]
        },
        {
            "cell_type": "code",
            "execution_count": null,
            "metadata": {},
            "outputs": [],
            "source": [
                "# Instantiate and train extreme random tree regressor on poisson/squared_error/absolute_error/friedman_mse\n",
                "model_8 = ExtraTreesClassifier(random_state=RSEED, max_features='sqrt', n_jobs=-1, verbose=1, n_estimators=200)\n",
                "model_8.fit(X_train, y_train)"
            ]
        },
        {
            "cell_type": "markdown",
            "metadata": {
                "tags": []
            },
            "source": [
                "##### RandomizedSearchCV"
            ]
        },
        {
            "cell_type": "code",
            "execution_count": null,
            "metadata": {},
            "outputs": [],
            "source": [
                "# # Define the parameter distribution for random search\n",
                "# param_dist = {\n",
                "#     #'class_weight': ['balanced', 'balanced_subsample'],  # takes count within classes into account \n",
                "#     'max_depth': randint(50, 10000),\n",
                "#     'min_samples_leaf': randint(10, 100),\n",
                "#     #'min_samples_split': randint(2,10000),\n",
                "#     'n_estimators': randint(200, 5000),\n",
                "#     'criterion': ['gini', 'entropy', 'log_loss']\n",
                "# }\n",
                "\n",
                "# # Create a base model\n",
                "# XTC = ExtraTreesClassifier(random_state=RSEED, class_weight='balanced')\n",
                "\n",
                "# # Create a custom scorer (you can change this to other metrics if needed)\n",
                "# scorer = make_scorer(f1_score)\n",
                "\n",
                "# # Instantiate RandomizedSearchCV object\n",
                "# random_search = RandomizedSearchCV(\n",
                "#     estimator=XTC,\n",
                "#     param_distributions=param_dist,\n",
                "#     n_iter=50,  # Reduced number of iterations\n",
                "#     cv=3,  # Reduced number of cross-validation folds\n",
                "#     scoring=scorer,\n",
                "#     random_state=RSEED,\n",
                "#     n_jobs=-1  # use all available cores\n",
                "# )\n",
                "\n",
                "# # Fit RandomizedSearchCV\n",
                "# random_search.fit(X_train, y_train)\n",
                "\n",
                "# # Print the best parameters and score\n",
                "# print(\"Best parameters:\", random_search.best_params_)\n",
                "# print(\"Best cross-validation score:\", random_search.best_score_)\n",
                "\n",
                "# # Get the best model\n",
                "# model_8_rscv = random_search.best_estimator_"
            ]
        },
        {
            "cell_type": "markdown",
            "metadata": {
                "tags": []
            },
            "source": [
                "##### GridSearchCV"
            ]
        },
        {
            "cell_type": "code",
            "execution_count": null,
            "metadata": {
                "tags": []
            },
            "outputs": [],
            "source": [
                "# # Defining parameter grid\n",
                "# param_grid = {\n",
                "#     'max_features': ['sqrt', 'log2', None],\n",
                "#     'min_samples_leaf': [10, 100, 200, 500, 1000, 10000],\n",
                "#     'n_estimators': [100, 500, 1000, 5000]\n",
                "# }\n",
                "    \n",
                "# # Create a base model\n",
                "# XTC = ExtraTreesClassifier(random_state=RSEED) #, class_weight='balanced')\n",
                "    \n",
                "# # Create a custom scorer (you can change this to other metrics if needed)\n",
                "# scorer = make_scorer(f1_score)\n",
                "    \n",
                "# # Instantiate gridsearch and define the metric to optimize \n",
                "# grid_search = GridSearchCV(\n",
                "#     estimator=XTC, \n",
                "#     param_grid=param_grid,\n",
                "#     scoring=scorer,\n",
                "#     cv=3,  # Reduced number of cross-validation folds \n",
                "#     verbose=5, \n",
                "#     n_jobs=-1 # use all available cores\n",
                "# )\n",
                "\n",
                "# # Fit GridSearchCV\n",
                "# grid_search.fit(X_train, y_train)\n",
                "\n",
                "# # Print the best parameters and score\n",
                "# print(\"Best parameters:\", grid_search.best_params_)\n",
                "# print(\"Best cross-validation score:\", grid_search.best_score_)\n",
                "\n",
                "# # Get the best model\n",
                "# model_8_gscv = grid_search.best_estimator_"
            ]
        },
        {
            "cell_type": "code",
            "execution_count": 67,
            "metadata": {},
            "outputs": [
                {
                    "name": "stderr",
                    "output_type": "stream",
                    "text": [
                        "[Parallel(n_jobs=16)]: Using backend ThreadingBackend with 16 concurrent workers.\n",
                        "[Parallel(n_jobs=16)]: Done  18 tasks      | elapsed:    0.2s\n",
                        "[Parallel(n_jobs=16)]: Done 168 tasks      | elapsed:    1.7s\n",
                        "[Parallel(n_jobs=16)]: Done 200 out of 200 | elapsed:    1.9s finished\n",
                        "[Parallel(n_jobs=16)]: Using backend ThreadingBackend with 16 concurrent workers.\n",
                        "[Parallel(n_jobs=16)]: Done  18 tasks      | elapsed:    0.0s\n",
                        "[Parallel(n_jobs=16)]: Done 168 tasks      | elapsed:    0.3s\n",
                        "[Parallel(n_jobs=16)]: Done 200 out of 200 | elapsed:    0.3s finished\n"
                    ]
                }
            ],
            "source": [
                "y_pred_train = model_8.predict(X_train)\n",
                "y_pred_test = model_8.predict(X_test)"
            ]
        },
        {
            "cell_type": "code",
            "execution_count": null,
            "metadata": {},
            "outputs": [],
            "source": [
                "# Save the model\n",
                "dump(model_8, 'models/model_8.joblib')"
            ]
        },
        {
            "cell_type": "code",
            "execution_count": 87,
            "metadata": {},
            "outputs": [],
            "source": [
                "# Load model\n",
                "model_8 = load('models/model_8.joblib')"
            ]
        },
        {
            "cell_type": "markdown",
            "metadata": {},
            "source": [
                "##### Evaluation"
            ]
        },
        {
            "cell_type": "code",
            "execution_count": 65,
            "metadata": {},
            "outputs": [
                {
                    "data": {
                        "image/png": "[encoded data removed]",
                        "text/plain": [
                            "<Figure size 1000x700 with 2 Axes>"
                        ]
                    },
                    "metadata": {},
                    "output_type": "display_data"
                },
                {
                    "name": "stdout",
                    "output_type": "stream",
                    "text": [
                        "Precision (train):  0.8\n",
                        "Precision (test):  0.45\n",
                        "Recall (train):  0.8\n",
                        "Recall (test):  0.47\n",
                        "F1 Score (train):  0.8\n",
                        "F1 Score (test):  0.46\n"
                    ]
                }
            ],
            "source": [
                "# Calculate Confusion Matrix\n",
                "conf_matrix = confusion_matrix(y_test, y_pred_test)\n",
                "\n",
                "# Create confusion matrix\n",
                "conf_matrixf = pd.DataFrame(conf_matrix)\n",
                "\n",
                "# Plot confusion matrix\n",
                "plt.figure(figsize=(10,7))\n",
                "sns.heatmap(conf_matrixf, annot=True, fmt='d', cmap='YlGnBu')\n",
                "plt.xlabel('Predicted')\n",
                "plt.ylabel('True')\n",
                "plt.title('Confusion Matrix')\n",
                "plt.show()\n",
                "\n",
                "# Calculate Precision\n",
                "precision_train = precision_score(y_train, y_pred_train, average='weighted')\n",
                "precision_test = precision_score(y_test, y_pred_test, average='weighted')\n",
                "print('Precision (train): ', round(precision_train, 2))\n",
                "print('Precision (test): ', round(precision_test, 2))\n",
                "\n",
                "# Calculate Recall\n",
                "recall_train = recall_score(y_train, y_pred_train, average='weighted')\n",
                "recall_test = recall_score(y_test, y_pred_test, average='weighted')\n",
                "print('Recall (train): ', round(recall_train, 2))\n",
                "print('Recall (test): ', round(recall_test, 2))\n",
                "\n",
                "# Calculate F1 Score\n",
                "f1_train = f1_score(y_train, y_pred_train, average='weighted')\n",
                "f1_test = f1_score(y_test, y_pred_test, average='weighted')\n",
                "print('F1 Score (train): ', round(f1_train, 2))\n",
                "print('F1 Score (test): ', round(f1_test, 2))"
            ]
        },
        {
            "cell_type": "code",
            "execution_count": 69,
            "metadata": {},
            "outputs": [
                {
                    "name": "stdout",
                    "output_type": "stream",
                    "text": [
                        "Classification Report (train):                precision    recall  f1-score   support\n",
                        "\n",
                        "           1       0.82      0.96      0.88     30534\n",
                        "           2       0.77      0.84      0.80     27891\n",
                        "           3       0.79      0.65      0.71     12436\n",
                        "           4       0.83      0.57      0.68      5447\n",
                        "           5       0.89      0.55      0.68      6175\n",
                        "           6       0.94      0.58      0.72      3783\n",
                        "\n",
                        "    accuracy                           0.80     86266\n",
                        "   macro avg       0.84      0.69      0.74     86266\n",
                        "weighted avg       0.81      0.80      0.80     86266\n",
                        "\n",
                        "Classification Report (test):                precision    recall  f1-score   support\n",
                        "\n",
                        "           1       0.64      0.73      0.68      7634\n",
                        "           2       0.45      0.50      0.48      6973\n",
                        "           3       0.26      0.22      0.24      3109\n",
                        "           4       0.16      0.11      0.13      1362\n",
                        "           5       0.20      0.13      0.16      1543\n",
                        "           6       0.17      0.11      0.13       946\n",
                        "\n",
                        "    accuracy                           0.47     21567\n",
                        "   macro avg       0.31      0.30      0.30     21567\n",
                        "weighted avg       0.44      0.47      0.45     21567\n",
                        "\n"
                    ]
                }
            ],
            "source": [
                "# Calculate Classification Report\n",
                "classification_train = classification_report(y_train, y_pred_train)\n",
                "classification_test = classification_report(y_test, y_pred_test)\n",
                "print('Classification Report (train): ', classification_train)\n",
                "print('Classification Report (test): ', classification_test)"
            ]
        },
        {
            "cell_type": "markdown",
            "metadata": {},
            "source": [
                "#### Model 9: Gradient Boosting Classifier"
            ]
        },
        {
            "cell_type": "code",
            "execution_count": null,
            "metadata": {},
            "outputs": [],
            "source": [
                "# Instantiate and train Gradient Boosting Classifier\n",
                "model_9 = GradientBoostingClassifier(n_estimators=100, learning_rate=0.1, max_depth=3, min_samples_split=2, min_samples_leaf=1, subsample=1.0, max_features='sqrt', random_state=RSEED)\n",
                "model_9.fit(X_train, y_train)"
            ]
        },
        {
            "cell_type": "markdown",
            "metadata": {},
            "source": [
                "##### RandomizedSearchCV¶"
            ]
        },
        {
            "cell_type": "code",
            "execution_count": null,
            "metadata": {},
            "outputs": [],
            "source": [
                "# # Define the parameter distribution for random search\n",
                "# param_dist = {\n",
                "#     'n_estimators': randint(100, 10000),\n",
                "#     'learning_rate': uniform(0.05, 1),\n",
                "#     'loss': ['log_loss', 'exponential']\n",
                "    \n",
                "#     'class_weight': ['balanced', 'balanced_subsample'],  # takes count within classes into account \n",
                "#     'max_depth': randint(10, 10000),\n",
                "#     'min_samples_leaf': randint(10, 50000),\n",
                "#     #'min_samples_split': randint(2,10000),\n",
                "#     'n_estimators': randint(100, 10000),\n",
                "#     'criterion': ['gini', 'entropy', 'log_loss']\n",
                "# }\n",
                "\n",
                "# # Create a base model\n",
                "# #base_estimator = DecisionTreeClassifier(random_state=RSEED)\n",
                "# GBC = ExtraTreesClassifier(random_state=RSEED)\n",
                "\n",
                "# # Create a custom scorer (you can change this to other metrics if needed)\n",
                "# scorer = make_scorer(f1_score)\n",
                "\n",
                "# # Instantiate RandomizedSearchCV object\n",
                "# random_search = RandomizedSearchCV(\n",
                "#     estimator=GBC,\n",
                "#     param_distributions=param_dist,\n",
                "#     n_iter=50,  # Reduced number of iterations\n",
                "#     cv=3,  # Reduced number of cross-validation folds\n",
                "#     scoring=scorer,\n",
                "#     random_state=RSEED,\n",
                "#     n_jobs=-1  # use all available cores\n",
                "# )\n",
                "\n",
                "# # Fit RandomizedSearchCV\n",
                "# random_search.fit(X_train, y_train)\n",
                "\n",
                "# # Print the best parameters and score\n",
                "# print(\"Best parameters:\", random_search.best_params_)\n",
                "# print(\"Best cross-validation score:\", random_search.best_score_)\n",
                "\n",
                "# # Get the best model\n",
                "# model_9 = random_search.best_estimator_"
            ]
        },
        {
            "cell_type": "code",
            "execution_count": null,
            "metadata": {},
            "outputs": [],
            "source": [
                "y_pred_train = model_9.predict(X_train)\n",
                "y_pred_test = model_9.predict(X_test)"
            ]
        },
        {
            "cell_type": "code",
            "execution_count": null,
            "metadata": {},
            "outputs": [],
            "source": [
                "# Save the model\n",
                "dump(model_9, 'models/model_9.joblib')"
            ]
        },
        {
            "cell_type": "code",
            "execution_count": 88,
            "metadata": {},
            "outputs": [],
            "source": [
                "# Load model\n",
                "model_9 = load('models/model_9.joblib')"
            ]
        },
        {
            "cell_type": "markdown",
            "metadata": {},
            "source": [
                "##### Evaluation"
            ]
        },
        {
            "cell_type": "code",
            "execution_count": null,
            "metadata": {},
            "outputs": [],
            "source": [
                "# Calculate Confusion Matrix\n",
                "conf_matrix = confusion_matrix(y_test, y_pred_test)\n",
                "\n",
                "# Create confusion matrix\n",
                "conf_matrixf = pd.DataFrame(conf_matrix)\n",
                "\n",
                "# Plot confusion matrix\n",
                "plt.figure(figsize=(10,7))\n",
                "sns.heatmap(conf_matrixf, annot=True, fmt='d', cmap='YlGnBu')\n",
                "plt.xlabel('Predicted')\n",
                "plt.ylabel('True')\n",
                "plt.title('Confusion Matrix')\n",
                "plt.show()\n",
                "\n",
                "# Calculate Precision\n",
                "precision_train = precision_score(y_train, y_pred_train, average='weighted')\n",
                "precision_test = precision_score(y_test, y_pred_test, average='weighted')\n",
                "print('Precision (train): ', round(precision_train, 2))\n",
                "print('Precision (test): ', round(precision_test, 2))\n",
                "\n",
                "# Calculate Recall\n",
                "recall_train = recall_score(y_train, y_pred_train, average='weighted')\n",
                "recall_test = recall_score(y_test, y_pred_test, average='weighted')\n",
                "print('Recall (train): ', round(recall_train, 2))\n",
                "print('Recall (test): ', round(recall_test, 2))\n",
                "\n",
                "# Calculate F1 Score\n",
                "f1_train = f1_score(y_train, y_pred_train, average='weighted')\n",
                "f1_test = f1_score(y_test, y_pred_test, average='weighted')\n",
                "print('F1 Score (train): ', round(f1_train, 2))\n",
                "print('F1 Score (test): ', round(f1_test, 2))"
            ]
        },
        {
            "cell_type": "code",
            "execution_count": null,
            "metadata": {},
            "outputs": [],
            "source": [
                "# Calculate Classification Report\n",
                "classification_train = classification_report(y_train, y_pred_train)\n",
                "classification_test = classification_report(y_test, y_pred_test)\n",
                "print('Classification Report (train): ', classification_train)\n",
                "print('Classification Report (test): ', classification_test)"
            ]
        },
        {
            "cell_type": "markdown",
            "metadata": {},
            "source": [
                "#### Model 10: Stacking"
            ]
        },
        {
            "cell_type": "code",
            "execution_count": 93,
            "metadata": {},
            "outputs": [
                {
                    "name": "stderr",
                    "output_type": "stream",
                    "text": [
                        "[Parallel(n_jobs=-1)]: Using backend ThreadingBackend with 16 concurrent workers.\n",
                        "[Parallel(n_jobs=-1)]: Done  18 tasks      | elapsed:    1.8s\n",
                        "[Parallel(n_jobs=-1)]: Done 100 out of 100 | elapsed:    6.4s finished\n",
                        "[Parallel(n_jobs=-1)]: Using backend ThreadingBackend with 16 concurrent workers.\n",
                        "[Parallel(n_jobs=-1)]: Done  18 tasks      | elapsed:    2.9s\n",
                        "[Parallel(n_jobs=-1)]: Done 168 tasks      | elapsed:   18.3s\n",
                        "[Parallel(n_jobs=-1)]: Done 200 out of 200 | elapsed:   21.0s finished\n",
                        "[Parallel(n_jobs=-1)]: Using backend ThreadingBackend with 16 concurrent workers.\n",
                        "[Parallel(n_jobs=-1)]: Done  18 tasks      | elapsed:    1.2s\n",
                        "[Parallel(n_jobs=-1)]: Done 100 out of 100 | elapsed:    4.4s finished\n",
                        "[Parallel(n_jobs=16)]: Using backend ThreadingBackend with 16 concurrent workers.\n",
                        "[Parallel(n_jobs=16)]: Done  18 tasks      | elapsed:    0.0s\n",
                        "[Parallel(n_jobs=16)]: Done 100 out of 100 | elapsed:    0.0s finished\n",
                        "[Parallel(n_jobs=-1)]: Using backend ThreadingBackend with 16 concurrent workers.\n",
                        "[Parallel(n_jobs=-1)]: Done  18 tasks      | elapsed:    1.2s\n",
                        "[Parallel(n_jobs=-1)]: Done 100 out of 100 | elapsed:    4.4s finished\n",
                        "[Parallel(n_jobs=16)]: Using backend ThreadingBackend with 16 concurrent workers.\n",
                        "[Parallel(n_jobs=16)]: Done  18 tasks      | elapsed:    0.0s\n",
                        "[Parallel(n_jobs=16)]: Done 100 out of 100 | elapsed:    0.0s finished\n",
                        "[Parallel(n_jobs=-1)]: Using backend ThreadingBackend with 16 concurrent workers.\n",
                        "[Parallel(n_jobs=-1)]: Done  18 tasks      | elapsed:    1.3s\n",
                        "[Parallel(n_jobs=-1)]: Done 100 out of 100 | elapsed:    4.6s finished\n",
                        "[Parallel(n_jobs=16)]: Using backend ThreadingBackend with 16 concurrent workers.\n",
                        "[Parallel(n_jobs=16)]: Done  18 tasks      | elapsed:    0.0s\n",
                        "[Parallel(n_jobs=16)]: Done 100 out of 100 | elapsed:    0.0s finished\n",
                        "[Parallel(n_jobs=-1)]: Using backend ThreadingBackend with 16 concurrent workers.\n",
                        "[Parallel(n_jobs=-1)]: Done  18 tasks      | elapsed:    1.1s\n",
                        "[Parallel(n_jobs=-1)]: Done 100 out of 100 | elapsed:    4.3s finished\n",
                        "[Parallel(n_jobs=16)]: Using backend ThreadingBackend with 16 concurrent workers.\n",
                        "[Parallel(n_jobs=16)]: Done  18 tasks      | elapsed:    0.0s\n",
                        "[Parallel(n_jobs=16)]: Done 100 out of 100 | elapsed:    0.0s finished\n",
                        "[Parallel(n_jobs=-1)]: Using backend ThreadingBackend with 16 concurrent workers.\n",
                        "[Parallel(n_jobs=-1)]: Done  18 tasks      | elapsed:    1.2s\n",
                        "[Parallel(n_jobs=-1)]: Done 100 out of 100 | elapsed:    4.3s finished\n",
                        "[Parallel(n_jobs=16)]: Using backend ThreadingBackend with 16 concurrent workers.\n",
                        "[Parallel(n_jobs=16)]: Done  18 tasks      | elapsed:    0.0s\n",
                        "[Parallel(n_jobs=16)]: Done 100 out of 100 | elapsed:    0.0s finished\n",
                        "[Parallel(n_jobs=-1)]: Using backend ThreadingBackend with 16 concurrent workers.\n",
                        "[Parallel(n_jobs=-1)]: Done  18 tasks      | elapsed:    2.0s\n",
                        "[Parallel(n_jobs=-1)]: Done 168 tasks      | elapsed:   13.1s\n",
                        "[Parallel(n_jobs=-1)]: Done 200 out of 200 | elapsed:   15.3s finished\n",
                        "[Parallel(n_jobs=16)]: Using backend ThreadingBackend with 16 concurrent workers.\n",
                        "[Parallel(n_jobs=16)]: Done  18 tasks      | elapsed:    0.0s\n",
                        "[Parallel(n_jobs=16)]: Done 168 tasks      | elapsed:    0.1s\n",
                        "[Parallel(n_jobs=16)]: Done 200 out of 200 | elapsed:    0.1s finished\n",
                        "[Parallel(n_jobs=-1)]: Using backend ThreadingBackend with 16 concurrent workers.\n",
                        "[Parallel(n_jobs=-1)]: Done  18 tasks      | elapsed:    2.1s\n",
                        "[Parallel(n_jobs=-1)]: Done 168 tasks      | elapsed:   12.6s\n",
                        "[Parallel(n_jobs=-1)]: Done 200 out of 200 | elapsed:   14.8s finished\n",
                        "[Parallel(n_jobs=16)]: Using backend ThreadingBackend with 16 concurrent workers.\n",
                        "[Parallel(n_jobs=16)]: Done  18 tasks      | elapsed:    0.0s\n",
                        "[Parallel(n_jobs=16)]: Done 168 tasks      | elapsed:    0.1s\n",
                        "[Parallel(n_jobs=16)]: Done 200 out of 200 | elapsed:    0.2s finished\n",
                        "[Parallel(n_jobs=-1)]: Using backend ThreadingBackend with 16 concurrent workers.\n",
                        "[Parallel(n_jobs=-1)]: Done  18 tasks      | elapsed:    2.2s\n",
                        "[Parallel(n_jobs=-1)]: Done 168 tasks      | elapsed:   12.9s\n",
                        "[Parallel(n_jobs=-1)]: Done 200 out of 200 | elapsed:   14.9s finished\n",
                        "[Parallel(n_jobs=16)]: Using backend ThreadingBackend with 16 concurrent workers.\n",
                        "[Parallel(n_jobs=16)]: Done  18 tasks      | elapsed:    0.0s\n",
                        "[Parallel(n_jobs=16)]: Done 168 tasks      | elapsed:    0.1s\n",
                        "[Parallel(n_jobs=16)]: Done 200 out of 200 | elapsed:    0.2s finished\n",
                        "[Parallel(n_jobs=-1)]: Using backend ThreadingBackend with 16 concurrent workers.\n",
                        "[Parallel(n_jobs=-1)]: Done  18 tasks      | elapsed:    2.0s\n",
                        "[Parallel(n_jobs=-1)]: Done 168 tasks      | elapsed:   12.8s\n",
                        "[Parallel(n_jobs=-1)]: Done 200 out of 200 | elapsed:   14.9s finished\n",
                        "[Parallel(n_jobs=16)]: Using backend ThreadingBackend with 16 concurrent workers.\n",
                        "[Parallel(n_jobs=16)]: Done  18 tasks      | elapsed:    0.0s\n",
                        "[Parallel(n_jobs=16)]: Done 168 tasks      | elapsed:    0.1s\n",
                        "[Parallel(n_jobs=16)]: Done 200 out of 200 | elapsed:    0.2s finished\n",
                        "[Parallel(n_jobs=-1)]: Using backend ThreadingBackend with 16 concurrent workers.\n",
                        "[Parallel(n_jobs=-1)]: Done  18 tasks      | elapsed:    2.1s\n",
                        "[Parallel(n_jobs=-1)]: Done 168 tasks      | elapsed:   12.6s\n",
                        "[Parallel(n_jobs=-1)]: Done 200 out of 200 | elapsed:   14.6s finished\n",
                        "[Parallel(n_jobs=16)]: Using backend ThreadingBackend with 16 concurrent workers.\n",
                        "[Parallel(n_jobs=16)]: Done  18 tasks      | elapsed:    0.0s\n",
                        "[Parallel(n_jobs=16)]: Done 168 tasks      | elapsed:    0.1s\n",
                        "[Parallel(n_jobs=16)]: Done 200 out of 200 | elapsed:    0.2s finished\n",
                        "[Parallel(n_jobs=16)]: Using backend ThreadingBackend with 16 concurrent workers.\n",
                        "[Parallel(n_jobs=16)]: Done  18 tasks      | elapsed:    0.0s\n",
                        "[Parallel(n_jobs=16)]: Done 100 out of 100 | elapsed:    0.1s finished\n",
                        "[Parallel(n_jobs=16)]: Using backend ThreadingBackend with 16 concurrent workers.\n",
                        "[Parallel(n_jobs=16)]: Done  18 tasks      | elapsed:    0.0s\n",
                        "[Parallel(n_jobs=16)]: Done 168 tasks      | elapsed:    0.3s\n",
                        "[Parallel(n_jobs=16)]: Done 200 out of 200 | elapsed:    0.3s finished\n"
                    ]
                },
                {
                    "data": {
                        "text/plain": [
                            "0.4178142532572912"
                        ]
                    },
                    "execution_count": 93,
                    "metadata": {},
                    "output_type": "execute_result"
                }
            ],
            "source": [
                "# Hyperparameter grid\n",
                "estimators = [\n",
                "#    ('sgd', model_1),\n",
                "    ('knn', model_2),\n",
                "    ('dt', model_3),\n",
                "    ('rf', model_4),\n",
                "    ('xgb', model_5),\n",
                "    ('ada', model_6),\n",
                "    ('bag', model_7),\n",
                "    ('extra', model_8),\n",
                "    ('grboo', model_9),\n",
                "    ]\n",
                "\n",
                "# Instantiate and train Stacking Classifier/Regressor model\n",
                "model_10 = StackingClassifier(estimators=estimators, final_estimator=DecisionTreeClassifier(), cv=5, stack_method='predict_proba')\n",
                "model_10.fit(X_train, y_train).score(X_test, y_test)"
            ]
        },
        {
            "cell_type": "code",
            "execution_count": 95,
            "metadata": {},
            "outputs": [
                {
                    "name": "stderr",
                    "output_type": "stream",
                    "text": [
                        "[Parallel(n_jobs=16)]: Using backend ThreadingBackend with 16 concurrent workers.\n",
                        "[Parallel(n_jobs=16)]: Done  18 tasks      | elapsed:    0.6s\n",
                        "[Parallel(n_jobs=16)]: Done 100 out of 100 | elapsed:    1.1s finished\n",
                        "[Parallel(n_jobs=16)]: Using backend ThreadingBackend with 16 concurrent workers.\n",
                        "[Parallel(n_jobs=16)]: Done  18 tasks      | elapsed:    0.1s\n",
                        "[Parallel(n_jobs=16)]: Done 168 tasks      | elapsed:    1.2s\n",
                        "[Parallel(n_jobs=16)]: Done 200 out of 200 | elapsed:    1.4s finished\n",
                        "[Parallel(n_jobs=16)]: Using backend ThreadingBackend with 16 concurrent workers.\n",
                        "[Parallel(n_jobs=16)]: Done  18 tasks      | elapsed:    0.0s\n",
                        "[Parallel(n_jobs=16)]: Done 100 out of 100 | elapsed:    0.0s finished\n",
                        "[Parallel(n_jobs=16)]: Using backend ThreadingBackend with 16 concurrent workers.\n",
                        "[Parallel(n_jobs=16)]: Done  18 tasks      | elapsed:    0.0s\n",
                        "[Parallel(n_jobs=16)]: Done 168 tasks      | elapsed:    0.2s\n",
                        "[Parallel(n_jobs=16)]: Done 200 out of 200 | elapsed:    0.2s finished\n"
                    ]
                }
            ],
            "source": [
                "y_pred_train_10 = model_10.predict(X_train)\n",
                "y_pred_test_10 = model_10.predict(X_test)"
            ]
        },
        {
            "cell_type": "code",
            "execution_count": 94,
            "metadata": {},
            "outputs": [
                {
                    "data": {
                        "text/plain": [
                            "['models/model_10.joblib']"
                        ]
                    },
                    "execution_count": 94,
                    "metadata": {},
                    "output_type": "execute_result"
                }
            ],
            "source": [
                "# Save the model\n",
                "dump(model_10, 'models/model_10.joblib')"
            ]
        },
        {
            "cell_type": "code",
            "execution_count": null,
            "metadata": {},
            "outputs": [],
            "source": [
                "# Load model\n",
                "model_10 = load('models/model_10.joblib')"
            ]
        },
        {
            "cell_type": "markdown",
            "metadata": {},
            "source": [
                "##### Evaluation"
            ]
        },
        {
            "cell_type": "code",
            "execution_count": 96,
            "metadata": {},
            "outputs": [
                {
                    "data": {
                        "image/png": "[encoded data removed]",
                        "text/plain": [
                            "<Figure size 1000x700 with 2 Axes>"
                        ]
                    },
                    "metadata": {},
                    "output_type": "display_data"
                },
                {
                    "name": "stdout",
                    "output_type": "stream",
                    "text": [
                        "Precision (train):  0.45\n",
                        "Precision (test):  0.41\n",
                        "Recall (train):  0.45\n",
                        "Recall (test):  0.42\n",
                        "F1 Score (train):  0.45\n",
                        "F1 Score (test):  0.41\n"
                    ]
                }
            ],
            "source": [
                "# Calculate Confusion Matrix\n",
                "conf_matrix = confusion_matrix(y_test, y_pred_test)\n",
                "\n",
                "# Create confusion matrix\n",
                "conf_matrixf = pd.DataFrame(conf_matrix)\n",
                "\n",
                "# Plot confusion matrix\n",
                "plt.figure(figsize=(10,7))\n",
                "sns.heatmap(conf_matrixf, annot=True, fmt='d', cmap='YlGnBu')\n",
                "plt.xlabel('Predicted')\n",
                "plt.ylabel('True')\n",
                "plt.title('Confusion Matrix')\n",
                "plt.show()\n",
                "\n",
                "# Calculate Precision\n",
                "precision_train = precision_score(y_train, y_pred_train, average='weighted')\n",
                "precision_test = precision_score(y_test, y_pred_test, average='weighted')\n",
                "print('Precision (train): ', round(precision_train, 2))\n",
                "print('Precision (test): ', round(precision_test, 2))\n",
                "\n",
                "# Calculate Recall\n",
                "recall_train = recall_score(y_train, y_pred_train, average='weighted')\n",
                "recall_test = recall_score(y_test, y_pred_test, average='weighted')\n",
                "print('Recall (train): ', round(recall_train, 2))\n",
                "print('Recall (test): ', round(recall_test, 2))\n",
                "\n",
                "# Calculate F1 Score\n",
                "f1_train = f1_score(y_train, y_pred_train, average='weighted')\n",
                "f1_test = f1_score(y_test, y_pred_test, average='weighted')\n",
                "print('F1 Score (train): ', round(f1_train, 2))\n",
                "print('F1 Score (test): ', round(f1_test, 2))"
            ]
        },
        {
            "cell_type": "code",
            "execution_count": 97,
            "metadata": {},
            "outputs": [
                {
                    "name": "stdout",
                    "output_type": "stream",
                    "text": [
                        "Classification Report (train):                precision    recall  f1-score   support\n",
                        "\n",
                        "           1       0.66      0.69      0.67     30534\n",
                        "           2       0.46      0.46      0.46     27891\n",
                        "           3       0.25      0.25      0.25     12436\n",
                        "           4       0.16      0.15      0.16      5447\n",
                        "           5       0.16      0.15      0.16      6175\n",
                        "           6       0.17      0.16      0.16      3783\n",
                        "\n",
                        "    accuracy                           0.45     86266\n",
                        "   macro avg       0.31      0.31      0.31     86266\n",
                        "weighted avg       0.45      0.45      0.45     86266\n",
                        "\n",
                        "Classification Report (test):                precision    recall  f1-score   support\n",
                        "\n",
                        "           1       0.62      0.65      0.64      7634\n",
                        "           2       0.42      0.42      0.42      6973\n",
                        "           3       0.22      0.22      0.22      3109\n",
                        "           4       0.10      0.10      0.10      1362\n",
                        "           5       0.15      0.13      0.14      1543\n",
                        "           6       0.12      0.12      0.12       946\n",
                        "\n",
                        "    accuracy                           0.42     21567\n",
                        "   macro avg       0.27      0.27      0.27     21567\n",
                        "weighted avg       0.41      0.42      0.41     21567\n",
                        "\n"
                    ]
                }
            ],
            "source": [
                "# Calculate Classification Report\n",
                "classification_train = classification_report(y_train, y_pred_train)\n",
                "classification_test = classification_report(y_test, y_pred_test)\n",
                "print('Classification Report (train): ', classification_train)\n",
                "print('Classification Report (test): ', classification_test)"
            ]
        },
        {
            "cell_type": "markdown",
            "metadata": {},
            "source": [
                "#### Model 11: Max Voting Classifier"
            ]
        },
        {
            "cell_type": "code",
            "execution_count": 104,
            "metadata": {},
            "outputs": [
                {
                    "name": "stderr",
                    "output_type": "stream",
                    "text": [
                        "[Parallel(n_jobs=-1)]: Using backend ThreadingBackend with 16 concurrent workers.\n",
                        "[Parallel(n_jobs=-1)]: Done  18 tasks      | elapsed:    5.6s\n",
                        "[Parallel(n_jobs=-1)]: Done 100 out of 100 | elapsed:   10.3s finished\n",
                        "[Parallel(n_jobs=-1)]: Using backend ThreadingBackend with 16 concurrent workers.\n",
                        "[Parallel(n_jobs=-1)]: Done  18 tasks      | elapsed:    2.8s\n",
                        "[Parallel(n_jobs=-1)]: Done 168 tasks      | elapsed:   18.0s\n",
                        "[Parallel(n_jobs=-1)]: Done 200 out of 200 | elapsed:   20.6s finished\n"
                    ]
                },
                {
                    "data": {
                        "text/html": [
                            "<style>#sk-container-id-5 {color: black;background-color: white;}#sk-container-id-5 pre{padding: 0;}#sk-container-id-5 div.sk-toggleable {background-color: white;}#sk-container-id-5 label.sk-toggleable__label {cursor: pointer;display: block;width: 100%;margin-bottom: 0;padding: 0.3em;box-sizing: border-box;text-align: center;}#sk-container-id-5 label.sk-toggleable__label-arrow:before {content: \"▸\";float: left;margin-right: 0.25em;color: #696969;}#sk-container-id-5 label.sk-toggleable__label-arrow:hover:before {color: black;}#sk-container-id-5 div.sk-estimator:hover label.sk-toggleable__label-arrow:before {color: black;}#sk-container-id-5 div.sk-toggleable__content {max-height: 0;max-width: 0;overflow: hidden;text-align: left;background-color: #f0f8ff;}#sk-container-id-5 div.sk-toggleable__content pre {margin: 0.2em;color: black;border-radius: 0.25em;background-color: #f0f8ff;}#sk-container-id-5 input.sk-toggleable__control:checked~div.sk-toggleable__content {max-height: 200px;max-width: 100%;overflow: auto;}#sk-container-id-5 input.sk-toggleable__control:checked~label.sk-toggleable__label-arrow:before {content: \"▾\";}#sk-container-id-5 div.sk-estimator input.sk-toggleable__control:checked~label.sk-toggleable__label {background-color: #d4ebff;}#sk-container-id-5 div.sk-label input.sk-toggleable__control:checked~label.sk-toggleable__label {background-color: #d4ebff;}#sk-container-id-5 input.sk-hidden--visually {border: 0;clip: rect(1px 1px 1px 1px);clip: rect(1px, 1px, 1px, 1px);height: 1px;margin: -1px;overflow: hidden;padding: 0;position: absolute;width: 1px;}#sk-container-id-5 div.sk-estimator {font-family: monospace;background-color: #f0f8ff;border: 1px dotted black;border-radius: 0.25em;box-sizing: border-box;margin-bottom: 0.5em;}#sk-container-id-5 div.sk-estimator:hover {background-color: #d4ebff;}#sk-container-id-5 div.sk-parallel-item::after {content: \"\";width: 100%;border-bottom: 1px solid gray;flex-grow: 1;}#sk-container-id-5 div.sk-label:hover label.sk-toggleable__label {background-color: #d4ebff;}#sk-container-id-5 div.sk-serial::before {content: \"\";position: absolute;border-left: 1px solid gray;box-sizing: border-box;top: 0;bottom: 0;left: 50%;z-index: 0;}#sk-container-id-5 div.sk-serial {display: flex;flex-direction: column;align-items: center;background-color: white;padding-right: 0.2em;padding-left: 0.2em;position: relative;}#sk-container-id-5 div.sk-item {position: relative;z-index: 1;}#sk-container-id-5 div.sk-parallel {display: flex;align-items: stretch;justify-content: center;background-color: white;position: relative;}#sk-container-id-5 div.sk-item::before, #sk-container-id-5 div.sk-parallel-item::before {content: \"\";position: absolute;border-left: 1px solid gray;box-sizing: border-box;top: 0;bottom: 0;left: 50%;z-index: -1;}#sk-container-id-5 div.sk-parallel-item {display: flex;flex-direction: column;z-index: 1;position: relative;background-color: white;}#sk-container-id-5 div.sk-parallel-item:first-child::after {align-self: flex-end;width: 50%;}#sk-container-id-5 div.sk-parallel-item:last-child::after {align-self: flex-start;width: 50%;}#sk-container-id-5 div.sk-parallel-item:only-child::after {width: 0;}#sk-container-id-5 div.sk-dashed-wrapped {border: 1px dashed gray;margin: 0 0.4em 0.5em 0.4em;box-sizing: border-box;padding-bottom: 0.4em;background-color: white;}#sk-container-id-5 div.sk-label label {font-family: monospace;font-weight: bold;display: inline-block;line-height: 1.2em;}#sk-container-id-5 div.sk-label-container {text-align: center;}#sk-container-id-5 div.sk-container {/* jupyter's `normalize.less` sets `[hidden] { display: none; }` but bootstrap.min.css set `[hidden] { display: none !important; }` so we also need the `!important` here to be able to override the default hidden behavior on the sphinx rendered scikit-learn.org. See: https://github.com/scikit-learn/scikit-learn/issues/21755 */display: inline-block !important;position: relative;}#sk-container-id-5 div.sk-text-repr-fallback {display: none;}</style><div id=\"sk-container-id-5\" class=\"sk-top-container\"><div class=\"sk-text-repr-fallback\"><pre>VotingClassifier(estimators=[(&#x27;knn&#x27;,\n",
                            "                              KNeighborsClassifier(metric=&#x27;manhattan&#x27;,\n",
                            "                                                   n_neighbors=7)),\n",
                            "                             (&#x27;dt&#x27;,\n",
                            "                              DecisionTreeClassifier(criterion=&#x27;entropy&#x27;,\n",
                            "                                                     max_depth=19,\n",
                            "                                                     max_features=0.7276963431316488,\n",
                            "                                                     min_samples_split=11,\n",
                            "                                                     random_state=0)),\n",
                            "                             (&#x27;rf&#x27;,\n",
                            "                              RandomForestClassifier(n_jobs=-1, random_state=0,\n",
                            "                                                     verbose=1)),\n",
                            "                             (&#x27;xgb&#x27;,\n",
                            "                              XGBClassifier(base_score=None, booster=None,\n",
                            "                                            callbacks=...\n",
                            "                                                                                      min_samples_leaf=5,\n",
                            "                                                                                      min_samples_split=9,\n",
                            "                                                                                      random_state=0),\n",
                            "                                                bootstrap=False,\n",
                            "                                                bootstrap_features=True,\n",
                            "                                                max_features=0.985962269002118,\n",
                            "                                                max_samples=0.8518705609272555,\n",
                            "                                                n_estimators=58,\n",
                            "                                                random_state=0)),\n",
                            "                             (&#x27;extra&#x27;,\n",
                            "                              ExtraTreesClassifier(n_estimators=200, n_jobs=-1,\n",
                            "                                                   random_state=0, verbose=1)),\n",
                            "                             (&#x27;grboo&#x27;,\n",
                            "                              GradientBoostingClassifier(max_features=&#x27;sqrt&#x27;,\n",
                            "                                                         random_state=0))],\n",
                            "                 voting=&#x27;soft&#x27;)</pre><b>In a Jupyter environment, please rerun this cell to show the HTML representation or trust the notebook. <br />On GitHub, the HTML representation is unable to render, please try loading this page with nbviewer.org.</b></div><div class=\"sk-container\" hidden><div class=\"sk-item sk-dashed-wrapped\"><div class=\"sk-label-container\"><div class=\"sk-label sk-toggleable\"><input class=\"sk-toggleable__control sk-hidden--visually\" id=\"sk-estimator-id-16\" type=\"checkbox\" ><label for=\"sk-estimator-id-16\" class=\"sk-toggleable__label sk-toggleable__label-arrow\">VotingClassifier</label><div class=\"sk-toggleable__content\"><pre>VotingClassifier(estimators=[(&#x27;knn&#x27;,\n",
                            "                              KNeighborsClassifier(metric=&#x27;manhattan&#x27;,\n",
                            "                                                   n_neighbors=7)),\n",
                            "                             (&#x27;dt&#x27;,\n",
                            "                              DecisionTreeClassifier(criterion=&#x27;entropy&#x27;,\n",
                            "                                                     max_depth=19,\n",
                            "                                                     max_features=0.7276963431316488,\n",
                            "                                                     min_samples_split=11,\n",
                            "                                                     random_state=0)),\n",
                            "                             (&#x27;rf&#x27;,\n",
                            "                              RandomForestClassifier(n_jobs=-1, random_state=0,\n",
                            "                                                     verbose=1)),\n",
                            "                             (&#x27;xgb&#x27;,\n",
                            "                              XGBClassifier(base_score=None, booster=None,\n",
                            "                                            callbacks=...\n",
                            "                                                                                      min_samples_leaf=5,\n",
                            "                                                                                      min_samples_split=9,\n",
                            "                                                                                      random_state=0),\n",
                            "                                                bootstrap=False,\n",
                            "                                                bootstrap_features=True,\n",
                            "                                                max_features=0.985962269002118,\n",
                            "                                                max_samples=0.8518705609272555,\n",
                            "                                                n_estimators=58,\n",
                            "                                                random_state=0)),\n",
                            "                             (&#x27;extra&#x27;,\n",
                            "                              ExtraTreesClassifier(n_estimators=200, n_jobs=-1,\n",
                            "                                                   random_state=0, verbose=1)),\n",
                            "                             (&#x27;grboo&#x27;,\n",
                            "                              GradientBoostingClassifier(max_features=&#x27;sqrt&#x27;,\n",
                            "                                                         random_state=0))],\n",
                            "                 voting=&#x27;soft&#x27;)</pre></div></div></div><div class=\"sk-parallel\"><div class=\"sk-parallel-item\"><div class=\"sk-item\"><div class=\"sk-label-container\"><div class=\"sk-label sk-toggleable\"><label>knn</label></div></div><div class=\"sk-serial\"><div class=\"sk-item\"><div class=\"sk-estimator sk-toggleable\"><input class=\"sk-toggleable__control sk-hidden--visually\" id=\"sk-estimator-id-17\" type=\"checkbox\" ><label for=\"sk-estimator-id-17\" class=\"sk-toggleable__label sk-toggleable__label-arrow\">KNeighborsClassifier</label><div class=\"sk-toggleable__content\"><pre>KNeighborsClassifier(metric=&#x27;manhattan&#x27;, n_neighbors=7)</pre></div></div></div></div></div></div><div class=\"sk-parallel-item\"><div class=\"sk-item\"><div class=\"sk-label-container\"><div class=\"sk-label sk-toggleable\"><label>dt</label></div></div><div class=\"sk-serial\"><div class=\"sk-item\"><div class=\"sk-estimator sk-toggleable\"><input class=\"sk-toggleable__control sk-hidden--visually\" id=\"sk-estimator-id-18\" type=\"checkbox\" ><label for=\"sk-estimator-id-18\" class=\"sk-toggleable__label sk-toggleable__label-arrow\">DecisionTreeClassifier</label><div class=\"sk-toggleable__content\"><pre>DecisionTreeClassifier(criterion=&#x27;entropy&#x27;, max_depth=19,\n",
                            "                       max_features=0.7276963431316488, min_samples_split=11,\n",
                            "                       random_state=0)</pre></div></div></div></div></div></div><div class=\"sk-parallel-item\"><div class=\"sk-item\"><div class=\"sk-label-container\"><div class=\"sk-label sk-toggleable\"><label>rf</label></div></div><div class=\"sk-serial\"><div class=\"sk-item\"><div class=\"sk-estimator sk-toggleable\"><input class=\"sk-toggleable__control sk-hidden--visually\" id=\"sk-estimator-id-19\" type=\"checkbox\" ><label for=\"sk-estimator-id-19\" class=\"sk-toggleable__label sk-toggleable__label-arrow\">RandomForestClassifier</label><div class=\"sk-toggleable__content\"><pre>RandomForestClassifier(n_jobs=-1, random_state=0, verbose=1)</pre></div></div></div></div></div></div><div class=\"sk-parallel-item\"><div class=\"sk-item\"><div class=\"sk-label-container\"><div class=\"sk-label sk-toggleable\"><label>xgb</label></div></div><div class=\"sk-serial\"><div class=\"sk-item\"><div class=\"sk-estimator sk-toggleable\"><input class=\"sk-toggleable__control sk-hidden--visually\" id=\"sk-estimator-id-20\" type=\"checkbox\" ><label for=\"sk-estimator-id-20\" class=\"sk-toggleable__label sk-toggleable__label-arrow\">XGBClassifier</label><div class=\"sk-toggleable__content\"><pre>XGBClassifier(base_score=None, booster=None, callbacks=None,\n",
                            "              colsample_bylevel=None, colsample_bynode=None,\n",
                            "              colsample_bytree=None, device=None, early_stopping_rounds=None,\n",
                            "              enable_categorical=False, eval_metric=None, feature_types=None,\n",
                            "              gamma=None, grow_policy=None, importance_type=None,\n",
                            "              interaction_constraints=None, learning_rate=None, max_bin=None,\n",
                            "              max_cat_threshold=None, max_cat_to_onehot=None,\n",
                            "              max_delta_step=None, max_depth=None, max_leaves=None,\n",
                            "              min_child_weight=None, missing=nan, monotone_constraints=None,\n",
                            "              multi_strategy=None, n_estimators=None, n_jobs=None,\n",
                            "              num_parallel_tree=None, objective=&#x27;multi:softprob&#x27;, ...)</pre></div></div></div></div></div></div><div class=\"sk-parallel-item\"><div class=\"sk-item\"><div class=\"sk-label-container\"><div class=\"sk-label sk-toggleable\"><label>ada</label></div></div><div class=\"sk-serial\"><div class=\"sk-item sk-dashed-wrapped\"><div class=\"sk-parallel\"><div class=\"sk-parallel-item\"><div class=\"sk-item\"><div class=\"sk-label-container\"><div class=\"sk-label sk-toggleable\"><input class=\"sk-toggleable__control sk-hidden--visually\" id=\"sk-estimator-id-21\" type=\"checkbox\" ><label for=\"sk-estimator-id-21\" class=\"sk-toggleable__label sk-toggleable__label-arrow\">base_estimator: DecisionTreeClassifier</label><div class=\"sk-toggleable__content\"><pre>DecisionTreeClassifier(max_depth=4, min_samples_leaf=6, random_state=0)</pre></div></div></div><div class=\"sk-serial\"><div class=\"sk-item\"><div class=\"sk-estimator sk-toggleable\"><input class=\"sk-toggleable__control sk-hidden--visually\" id=\"sk-estimator-id-22\" type=\"checkbox\" ><label for=\"sk-estimator-id-22\" class=\"sk-toggleable__label sk-toggleable__label-arrow\">DecisionTreeClassifier</label><div class=\"sk-toggleable__content\"><pre>DecisionTreeClassifier(max_depth=4, min_samples_leaf=6, random_state=0)</pre></div></div></div></div></div></div></div></div></div></div></div><div class=\"sk-parallel-item\"><div class=\"sk-item\"><div class=\"sk-label-container\"><div class=\"sk-label sk-toggleable\"><label>bag</label></div></div><div class=\"sk-serial\"><div class=\"sk-item sk-dashed-wrapped\"><div class=\"sk-parallel\"><div class=\"sk-parallel-item\"><div class=\"sk-item\"><div class=\"sk-label-container\"><div class=\"sk-label sk-toggleable\"><input class=\"sk-toggleable__control sk-hidden--visually\" id=\"sk-estimator-id-23\" type=\"checkbox\" ><label for=\"sk-estimator-id-23\" class=\"sk-toggleable__label sk-toggleable__label-arrow\">base_estimator: DecisionTreeClassifier</label><div class=\"sk-toggleable__content\"><pre>DecisionTreeClassifier(max_depth=19, min_samples_leaf=5, min_samples_split=9,\n",
                            "                       random_state=0)</pre></div></div></div><div class=\"sk-serial\"><div class=\"sk-item\"><div class=\"sk-estimator sk-toggleable\"><input class=\"sk-toggleable__control sk-hidden--visually\" id=\"sk-estimator-id-24\" type=\"checkbox\" ><label for=\"sk-estimator-id-24\" class=\"sk-toggleable__label sk-toggleable__label-arrow\">DecisionTreeClassifier</label><div class=\"sk-toggleable__content\"><pre>DecisionTreeClassifier(max_depth=19, min_samples_leaf=5, min_samples_split=9,\n",
                            "                       random_state=0)</pre></div></div></div></div></div></div></div></div></div></div></div><div class=\"sk-parallel-item\"><div class=\"sk-item\"><div class=\"sk-label-container\"><div class=\"sk-label sk-toggleable\"><label>extra</label></div></div><div class=\"sk-serial\"><div class=\"sk-item\"><div class=\"sk-estimator sk-toggleable\"><input class=\"sk-toggleable__control sk-hidden--visually\" id=\"sk-estimator-id-25\" type=\"checkbox\" ><label for=\"sk-estimator-id-25\" class=\"sk-toggleable__label sk-toggleable__label-arrow\">ExtraTreesClassifier</label><div class=\"sk-toggleable__content\"><pre>ExtraTreesClassifier(n_estimators=200, n_jobs=-1, random_state=0, verbose=1)</pre></div></div></div></div></div></div><div class=\"sk-parallel-item\"><div class=\"sk-item\"><div class=\"sk-label-container\"><div class=\"sk-label sk-toggleable\"><label>grboo</label></div></div><div class=\"sk-serial\"><div class=\"sk-item\"><div class=\"sk-estimator sk-toggleable\"><input class=\"sk-toggleable__control sk-hidden--visually\" id=\"sk-estimator-id-26\" type=\"checkbox\" ><label for=\"sk-estimator-id-26\" class=\"sk-toggleable__label sk-toggleable__label-arrow\">GradientBoostingClassifier</label><div class=\"sk-toggleable__content\"><pre>GradientBoostingClassifier(max_features=&#x27;sqrt&#x27;, random_state=0)</pre></div></div></div></div></div></div></div></div></div></div>"
                        ],
                        "text/plain": [
                            "VotingClassifier(estimators=[('knn',\n",
                            "                              KNeighborsClassifier(metric='manhattan',\n",
                            "                                                   n_neighbors=7)),\n",
                            "                             ('dt',\n",
                            "                              DecisionTreeClassifier(criterion='entropy',\n",
                            "                                                     max_depth=19,\n",
                            "                                                     max_features=0.7276963431316488,\n",
                            "                                                     min_samples_split=11,\n",
                            "                                                     random_state=0)),\n",
                            "                             ('rf',\n",
                            "                              RandomForestClassifier(n_jobs=-1, random_state=0,\n",
                            "                                                     verbose=1)),\n",
                            "                             ('xgb',\n",
                            "                              XGBClassifier(base_score=None, booster=None,\n",
                            "                                            callbacks=...\n",
                            "                                                                                      min_samples_leaf=5,\n",
                            "                                                                                      min_samples_split=9,\n",
                            "                                                                                      random_state=0),\n",
                            "                                                bootstrap=False,\n",
                            "                                                bootstrap_features=True,\n",
                            "                                                max_features=0.985962269002118,\n",
                            "                                                max_samples=0.8518705609272555,\n",
                            "                                                n_estimators=58,\n",
                            "                                                random_state=0)),\n",
                            "                             ('extra',\n",
                            "                              ExtraTreesClassifier(n_estimators=200, n_jobs=-1,\n",
                            "                                                   random_state=0, verbose=1)),\n",
                            "                             ('grboo',\n",
                            "                              GradientBoostingClassifier(max_features='sqrt',\n",
                            "                                                         random_state=0))],\n",
                            "                 voting='soft')"
                        ]
                    },
                    "execution_count": 104,
                    "metadata": {},
                    "output_type": "execute_result"
                }
            ],
            "source": [
                "# Instantiate models\n",
                "estimators = [\n",
                "#    ('sgd', model_1),\n",
                "    ('knn', model_2),\n",
                "    ('dt', model_3),\n",
                "    ('rf', model_4),\n",
                "    ('xgb', model_5),\n",
                "    ('ada', model_6),\n",
                "    ('bag', model_7),\n",
                "    ('extra', model_8),\n",
                "    ('grboo', model_9),\n",
                "    ]\n",
                "\n",
                "# Instantiate and train Voting Classifier model\n",
                "model_11 = VotingClassifier(estimators=estimators, voting='soft')\n",
                "model_11.fit(X_train, y_train)"
            ]
        },
        {
            "cell_type": "code",
            "execution_count": 114,
            "metadata": {},
            "outputs": [
                {
                    "name": "stderr",
                    "output_type": "stream",
                    "text": [
                        "[Parallel(n_jobs=16)]: Using backend ThreadingBackend with 16 concurrent workers.\n",
                        "[Parallel(n_jobs=16)]: Done  18 tasks      | elapsed:    0.1s\n",
                        "[Parallel(n_jobs=16)]: Done 100 out of 100 | elapsed:    0.6s finished\n",
                        "[Parallel(n_jobs=16)]: Using backend ThreadingBackend with 16 concurrent workers.\n",
                        "[Parallel(n_jobs=16)]: Done  18 tasks      | elapsed:    0.1s\n",
                        "[Parallel(n_jobs=16)]: Done 168 tasks      | elapsed:    1.5s\n",
                        "[Parallel(n_jobs=16)]: Done 200 out of 200 | elapsed:    1.8s finished\n",
                        "[Parallel(n_jobs=16)]: Using backend ThreadingBackend with 16 concurrent workers.\n",
                        "[Parallel(n_jobs=16)]: Done  18 tasks      | elapsed:    0.0s\n",
                        "[Parallel(n_jobs=16)]: Done 100 out of 100 | elapsed:    0.0s finished\n",
                        "[Parallel(n_jobs=16)]: Using backend ThreadingBackend with 16 concurrent workers.\n",
                        "[Parallel(n_jobs=16)]: Done  18 tasks      | elapsed:    0.0s\n",
                        "[Parallel(n_jobs=16)]: Done 168 tasks      | elapsed:    0.2s\n",
                        "[Parallel(n_jobs=16)]: Done 200 out of 200 | elapsed:    0.2s finished\n"
                    ]
                }
            ],
            "source": [
                "y_pred_train = model_11.predict(X_train)\n",
                "y_pred_test = model_11.predict(X_test)"
            ]
        },
        {
            "cell_type": "code",
            "execution_count": 106,
            "metadata": {},
            "outputs": [
                {
                    "data": {
                        "text/plain": [
                            "['models/model_11.joblib']"
                        ]
                    },
                    "execution_count": 106,
                    "metadata": {},
                    "output_type": "execute_result"
                }
            ],
            "source": [
                "# Save the model\n",
                "dump(model_11, 'models/model_11.joblib')"
            ]
        },
        {
            "cell_type": "code",
            "execution_count": 103,
            "metadata": {},
            "outputs": [
                {
                    "ename": "KeyboardInterrupt",
                    "evalue": "",
                    "output_type": "error",
                    "traceback": [
                        "\u001b[1;31m---------------------------------------------------------------------------\u001b[0m",
                        "\u001b[1;31mKeyboardInterrupt\u001b[0m                         Traceback (most recent call last)",
                        "Cell \u001b[1;32mIn[103], line 2\u001b[0m\n\u001b[0;32m      1\u001b[0m \u001b[38;5;66;03m# Load model\u001b[39;00m\n\u001b[1;32m----> 2\u001b[0m model_11 \u001b[38;5;241m=\u001b[39m \u001b[43mload\u001b[49m\u001b[43m(\u001b[49m\u001b[38;5;124;43m'\u001b[39;49m\u001b[38;5;124;43mmodels/model_11.joblib\u001b[39;49m\u001b[38;5;124;43m'\u001b[39;49m\u001b[43m)\u001b[49m\n",
                        "File \u001b[1;32md:\\Github\\flight-delay-prediction\\.venv\\Lib\\site-packages\\joblib\\numpy_pickle.py:658\u001b[0m, in \u001b[0;36mload\u001b[1;34m(filename, mmap_mode)\u001b[0m\n\u001b[0;32m    652\u001b[0m             \u001b[38;5;28;01mif\u001b[39;00m \u001b[38;5;28misinstance\u001b[39m(fobj, \u001b[38;5;28mstr\u001b[39m):\n\u001b[0;32m    653\u001b[0m                 \u001b[38;5;66;03m# if the returned file object is a string, this means we\u001b[39;00m\n\u001b[0;32m    654\u001b[0m                 \u001b[38;5;66;03m# try to load a pickle file generated with an version of\u001b[39;00m\n\u001b[0;32m    655\u001b[0m                 \u001b[38;5;66;03m# Joblib so we load it with joblib compatibility function.\u001b[39;00m\n\u001b[0;32m    656\u001b[0m                 \u001b[38;5;28;01mreturn\u001b[39;00m load_compatibility(fobj)\n\u001b[1;32m--> 658\u001b[0m             obj \u001b[38;5;241m=\u001b[39m \u001b[43m_unpickle\u001b[49m\u001b[43m(\u001b[49m\u001b[43mfobj\u001b[49m\u001b[43m,\u001b[49m\u001b[43m \u001b[49m\u001b[43mfilename\u001b[49m\u001b[43m,\u001b[49m\u001b[43m \u001b[49m\u001b[43mmmap_mode\u001b[49m\u001b[43m)\u001b[49m\n\u001b[0;32m    659\u001b[0m \u001b[38;5;28;01mreturn\u001b[39;00m obj\n",
                        "File \u001b[1;32md:\\Github\\flight-delay-prediction\\.venv\\Lib\\site-packages\\joblib\\numpy_pickle.py:577\u001b[0m, in \u001b[0;36m_unpickle\u001b[1;34m(fobj, filename, mmap_mode)\u001b[0m\n\u001b[0;32m    575\u001b[0m obj \u001b[38;5;241m=\u001b[39m \u001b[38;5;28;01mNone\u001b[39;00m\n\u001b[0;32m    576\u001b[0m \u001b[38;5;28;01mtry\u001b[39;00m:\n\u001b[1;32m--> 577\u001b[0m     obj \u001b[38;5;241m=\u001b[39m \u001b[43munpickler\u001b[49m\u001b[38;5;241;43m.\u001b[39;49m\u001b[43mload\u001b[49m\u001b[43m(\u001b[49m\u001b[43m)\u001b[49m\n\u001b[0;32m    578\u001b[0m     \u001b[38;5;28;01mif\u001b[39;00m unpickler\u001b[38;5;241m.\u001b[39mcompat_mode:\n\u001b[0;32m    579\u001b[0m         warnings\u001b[38;5;241m.\u001b[39mwarn(\u001b[38;5;124m\"\u001b[39m\u001b[38;5;124mThe file \u001b[39m\u001b[38;5;124m'\u001b[39m\u001b[38;5;132;01m%s\u001b[39;00m\u001b[38;5;124m'\u001b[39m\u001b[38;5;124m has been generated with a \u001b[39m\u001b[38;5;124m\"\u001b[39m\n\u001b[0;32m    580\u001b[0m                       \u001b[38;5;124m\"\u001b[39m\u001b[38;5;124mjoblib version less than 0.10. \u001b[39m\u001b[38;5;124m\"\u001b[39m\n\u001b[0;32m    581\u001b[0m                       \u001b[38;5;124m\"\u001b[39m\u001b[38;5;124mPlease regenerate this pickle file.\u001b[39m\u001b[38;5;124m\"\u001b[39m\n\u001b[0;32m    582\u001b[0m                       \u001b[38;5;241m%\u001b[39m filename,\n\u001b[0;32m    583\u001b[0m                       \u001b[38;5;167;01mDeprecationWarning\u001b[39;00m, stacklevel\u001b[38;5;241m=\u001b[39m\u001b[38;5;241m3\u001b[39m)\n",
                        "File \u001b[1;32m~\\.pyenv\\pyenv-win\\versions\\3.11.3\\Lib\\pickle.py:1213\u001b[0m, in \u001b[0;36m_Unpickler.load\u001b[1;34m(self)\u001b[0m\n\u001b[0;32m   1211\u001b[0m             \u001b[38;5;28;01mraise\u001b[39;00m \u001b[38;5;167;01mEOFError\u001b[39;00m\n\u001b[0;32m   1212\u001b[0m         \u001b[38;5;28;01massert\u001b[39;00m \u001b[38;5;28misinstance\u001b[39m(key, bytes_types)\n\u001b[1;32m-> 1213\u001b[0m         \u001b[43mdispatch\u001b[49m\u001b[43m[\u001b[49m\u001b[43mkey\u001b[49m\u001b[43m[\u001b[49m\u001b[38;5;241;43m0\u001b[39;49m\u001b[43m]\u001b[49m\u001b[43m]\u001b[49m\u001b[43m(\u001b[49m\u001b[38;5;28;43mself\u001b[39;49m\u001b[43m)\u001b[49m\n\u001b[0;32m   1214\u001b[0m \u001b[38;5;28;01mexcept\u001b[39;00m _Stop \u001b[38;5;28;01mas\u001b[39;00m stopinst:\n\u001b[0;32m   1215\u001b[0m     \u001b[38;5;28;01mreturn\u001b[39;00m stopinst\u001b[38;5;241m.\u001b[39mvalue\n",
                        "File \u001b[1;32md:\\Github\\flight-delay-prediction\\.venv\\Lib\\site-packages\\joblib\\numpy_pickle.py:415\u001b[0m, in \u001b[0;36mNumpyUnpickler.load_build\u001b[1;34m(self)\u001b[0m\n\u001b[0;32m    413\u001b[0m \u001b[38;5;28;01mif\u001b[39;00m \u001b[38;5;28misinstance\u001b[39m(array_wrapper, NDArrayWrapper):\n\u001b[0;32m    414\u001b[0m     \u001b[38;5;28mself\u001b[39m\u001b[38;5;241m.\u001b[39mcompat_mode \u001b[38;5;241m=\u001b[39m \u001b[38;5;28;01mTrue\u001b[39;00m\n\u001b[1;32m--> 415\u001b[0m \u001b[38;5;28mself\u001b[39m\u001b[38;5;241m.\u001b[39mstack\u001b[38;5;241m.\u001b[39mappend(\u001b[43marray_wrapper\u001b[49m\u001b[38;5;241;43m.\u001b[39;49m\u001b[43mread\u001b[49m\u001b[43m(\u001b[49m\u001b[38;5;28;43mself\u001b[39;49m\u001b[43m)\u001b[49m)\n",
                        "File \u001b[1;32md:\\Github\\flight-delay-prediction\\.venv\\Lib\\site-packages\\joblib\\numpy_pickle.py:252\u001b[0m, in \u001b[0;36mNumpyArrayWrapper.read\u001b[1;34m(self, unpickler)\u001b[0m\n\u001b[0;32m    250\u001b[0m     array \u001b[38;5;241m=\u001b[39m \u001b[38;5;28mself\u001b[39m\u001b[38;5;241m.\u001b[39mread_mmap(unpickler)\n\u001b[0;32m    251\u001b[0m \u001b[38;5;28;01melse\u001b[39;00m:\n\u001b[1;32m--> 252\u001b[0m     array \u001b[38;5;241m=\u001b[39m \u001b[38;5;28;43mself\u001b[39;49m\u001b[38;5;241;43m.\u001b[39;49m\u001b[43mread_array\u001b[49m\u001b[43m(\u001b[49m\u001b[43munpickler\u001b[49m\u001b[43m)\u001b[49m\n\u001b[0;32m    254\u001b[0m \u001b[38;5;66;03m# Manage array subclass case\u001b[39;00m\n\u001b[0;32m    255\u001b[0m \u001b[38;5;28;01mif\u001b[39;00m (\u001b[38;5;28mhasattr\u001b[39m(array, \u001b[38;5;124m'\u001b[39m\u001b[38;5;124m__array_prepare__\u001b[39m\u001b[38;5;124m'\u001b[39m) \u001b[38;5;129;01mand\u001b[39;00m\n\u001b[0;32m    256\u001b[0m     \u001b[38;5;28mself\u001b[39m\u001b[38;5;241m.\u001b[39msubclass \u001b[38;5;129;01mnot\u001b[39;00m \u001b[38;5;129;01min\u001b[39;00m (unpickler\u001b[38;5;241m.\u001b[39mnp\u001b[38;5;241m.\u001b[39mndarray,\n\u001b[0;32m    257\u001b[0m                           unpickler\u001b[38;5;241m.\u001b[39mnp\u001b[38;5;241m.\u001b[39mmemmap)):\n\u001b[0;32m    258\u001b[0m     \u001b[38;5;66;03m# We need to reconstruct another subclass\u001b[39;00m\n",
                        "File \u001b[1;32md:\\Github\\flight-delay-prediction\\.venv\\Lib\\site-packages\\joblib\\numpy_pickle.py:152\u001b[0m, in \u001b[0;36mNumpyArrayWrapper.read_array\u001b[1;34m(self, unpickler)\u001b[0m\n\u001b[0;32m    149\u001b[0m \u001b[38;5;66;03m# Now read the actual data.\u001b[39;00m\n\u001b[0;32m    150\u001b[0m \u001b[38;5;28;01mif\u001b[39;00m \u001b[38;5;28mself\u001b[39m\u001b[38;5;241m.\u001b[39mdtype\u001b[38;5;241m.\u001b[39mhasobject:\n\u001b[0;32m    151\u001b[0m     \u001b[38;5;66;03m# The array contained Python objects. We need to unpickle the data.\u001b[39;00m\n\u001b[1;32m--> 152\u001b[0m     array \u001b[38;5;241m=\u001b[39m pickle\u001b[38;5;241m.\u001b[39mload(unpickler\u001b[38;5;241m.\u001b[39mfile_handle)\n\u001b[0;32m    153\u001b[0m \u001b[38;5;28;01melse\u001b[39;00m:\n\u001b[0;32m    154\u001b[0m     numpy_array_alignment_bytes \u001b[38;5;241m=\u001b[39m \\\n\u001b[0;32m    155\u001b[0m         \u001b[38;5;28mself\u001b[39m\u001b[38;5;241m.\u001b[39msafe_get_numpy_array_alignment_bytes()\n",
                        "File \u001b[1;32md:\\Github\\flight-delay-prediction\\.venv\\Lib\\site-packages\\numpy\\random\\_pickle.py:80\u001b[0m, in \u001b[0;36m__randomstate_ctor\u001b[1;34m(bit_generator_name, bit_generator_ctor)\u001b[0m\n\u001b[0;32m     61\u001b[0m \u001b[38;5;28;01mdef\u001b[39;00m \u001b[38;5;21m__randomstate_ctor\u001b[39m(bit_generator_name\u001b[38;5;241m=\u001b[39m\u001b[38;5;124m\"\u001b[39m\u001b[38;5;124mMT19937\u001b[39m\u001b[38;5;124m\"\u001b[39m,\n\u001b[0;32m     62\u001b[0m                        bit_generator_ctor\u001b[38;5;241m=\u001b[39m__bit_generator_ctor):\n\u001b[0;32m     63\u001b[0m \u001b[38;5;250m    \u001b[39m\u001b[38;5;124;03m\"\"\"\u001b[39;00m\n\u001b[0;32m     64\u001b[0m \u001b[38;5;124;03m    Pickling helper function that returns a legacy RandomState-like object\u001b[39;00m\n\u001b[0;32m     65\u001b[0m \n\u001b[1;32m   (...)\u001b[0m\n\u001b[0;32m     77\u001b[0m \u001b[38;5;124;03m        Legacy RandomState using the named core BitGenerator\u001b[39;00m\n\u001b[0;32m     78\u001b[0m \u001b[38;5;124;03m    \"\"\"\u001b[39;00m\n\u001b[1;32m---> 80\u001b[0m     \u001b[38;5;28;01mreturn\u001b[39;00m RandomState(\u001b[43mbit_generator_ctor\u001b[49m\u001b[43m(\u001b[49m\u001b[43mbit_generator_name\u001b[49m\u001b[43m)\u001b[49m)\n",
                        "File \u001b[1;32md:\\Github\\flight-delay-prediction\\.venv\\Lib\\site-packages\\numpy\\random\\_pickle.py:37\u001b[0m, in \u001b[0;36m__bit_generator_ctor\u001b[1;34m(bit_generator_name)\u001b[0m\n\u001b[0;32m     33\u001b[0m \u001b[38;5;28;01melse\u001b[39;00m:\n\u001b[0;32m     34\u001b[0m     \u001b[38;5;28;01mraise\u001b[39;00m \u001b[38;5;167;01mValueError\u001b[39;00m(\u001b[38;5;28mstr\u001b[39m(bit_generator_name) \u001b[38;5;241m+\u001b[39m \u001b[38;5;124m'\u001b[39m\u001b[38;5;124m is not a known \u001b[39m\u001b[38;5;124m'\u001b[39m\n\u001b[0;32m     35\u001b[0m                                                \u001b[38;5;124m'\u001b[39m\u001b[38;5;124mBitGenerator module.\u001b[39m\u001b[38;5;124m'\u001b[39m)\n\u001b[1;32m---> 37\u001b[0m \u001b[38;5;28;01mreturn\u001b[39;00m \u001b[43mbit_generator\u001b[49m\u001b[43m(\u001b[49m\u001b[43m)\u001b[49m\n",
                        "File \u001b[1;32m_mt19937.pyx:129\u001b[0m, in \u001b[0;36mnumpy.random._mt19937.MT19937.__init__\u001b[1;34m()\u001b[0m\n",
                        "File \u001b[1;32mbit_generator.pyx:519\u001b[0m, in \u001b[0;36mnumpy.random.bit_generator.BitGenerator.__init__\u001b[1;34m()\u001b[0m\n",
                        "File \u001b[1;32mbit_generator.pyx:298\u001b[0m, in \u001b[0;36mnumpy.random.bit_generator.SeedSequence.__init__\u001b[1;34m()\u001b[0m\n",
                        "File \u001b[1;32m~\\.pyenv\\pyenv-win\\versions\\3.11.3\\Lib\\random.py:805\u001b[0m, in \u001b[0;36mSystemRandom.getrandbits\u001b[1;34m(self, k)\u001b[0m\n\u001b[0;32m    803\u001b[0m     \u001b[38;5;28;01mraise\u001b[39;00m \u001b[38;5;167;01mValueError\u001b[39;00m(\u001b[38;5;124m'\u001b[39m\u001b[38;5;124mnumber of bits must be non-negative\u001b[39m\u001b[38;5;124m'\u001b[39m)\n\u001b[0;32m    804\u001b[0m numbytes \u001b[38;5;241m=\u001b[39m (k \u001b[38;5;241m+\u001b[39m \u001b[38;5;241m7\u001b[39m) \u001b[38;5;241m/\u001b[39m\u001b[38;5;241m/\u001b[39m \u001b[38;5;241m8\u001b[39m                       \u001b[38;5;66;03m# bits / 8 and rounded up\u001b[39;00m\n\u001b[1;32m--> 805\u001b[0m x \u001b[38;5;241m=\u001b[39m \u001b[38;5;28mint\u001b[39m\u001b[38;5;241m.\u001b[39mfrom_bytes(_urandom(numbytes))\n\u001b[0;32m    806\u001b[0m \u001b[38;5;28;01mreturn\u001b[39;00m x \u001b[38;5;241m>>\u001b[39m (numbytes \u001b[38;5;241m*\u001b[39m \u001b[38;5;241m8\u001b[39m \u001b[38;5;241m-\u001b[39m k)\n",
                        "\u001b[1;31mKeyboardInterrupt\u001b[0m: "
                    ]
                }
            ],
            "source": [
                "# Load model\n",
                "model_11 = load('models/model_11.joblib')"
            ]
        },
        {
            "cell_type": "markdown",
            "metadata": {},
            "source": [
                "##### Evaluation"
            ]
        },
        {
            "cell_type": "code",
            "execution_count": 107,
            "metadata": {},
            "outputs": [
                {
                    "data": {
                        "image/png": "[encoded data removed]",
                        "text/plain": [
                            "<Figure size 1000x700 with 2 Axes>"
                        ]
                    },
                    "metadata": {},
                    "output_type": "display_data"
                },
                {
                    "name": "stdout",
                    "output_type": "stream",
                    "text": [
                        "Precision (train):  0.78\n",
                        "Precision (test):  0.47\n",
                        "Recall (train):  0.77\n",
                        "Recall (test):  0.51\n",
                        "F1 Score (train):  0.76\n",
                        "F1 Score (test):  0.48\n"
                    ]
                }
            ],
            "source": [
                "# Calculate Confusion Matrix\n",
                "conf_matrix = confusion_matrix(y_test, y_pred_test)\n",
                "\n",
                "# Create confusion matrix\n",
                "conf_matrixf = pd.DataFrame(conf_matrix)\n",
                "\n",
                "# Plot confusion matrix\n",
                "plt.figure(figsize=(10,7))\n",
                "sns.heatmap(conf_matrixf, annot=True, fmt='d', cmap='YlGnBu')\n",
                "plt.xlabel('Predicted')\n",
                "plt.ylabel('True')\n",
                "plt.title('Confusion Matrix')\n",
                "plt.show()\n",
                "\n",
                "# Calculate Precision\n",
                "precision_train = precision_score(y_train, y_pred_train, average='weighted')\n",
                "precision_test = precision_score(y_test, y_pred_test, average='weighted')\n",
                "print('Precision (train): ', round(precision_train, 2))\n",
                "print('Precision (test): ', round(precision_test, 2))\n",
                "\n",
                "# Calculate Recall\n",
                "recall_train = recall_score(y_train, y_pred_train, average='weighted')\n",
                "recall_test = recall_score(y_test, y_pred_test, average='weighted')\n",
                "print('Recall (train): ', round(recall_train, 2))\n",
                "print('Recall (test): ', round(recall_test, 2))\n",
                "\n",
                "# Calculate F1 Score\n",
                "f1_train = f1_score(y_train, y_pred_train, average='weighted')\n",
                "f1_test = f1_score(y_test, y_pred_test, average='weighted')\n",
                "print('F1 Score (train): ', round(f1_train, 2))\n",
                "print('F1 Score (test): ', round(f1_test, 2))"
            ]
        },
        {
            "cell_type": "code",
            "execution_count": 108,
            "metadata": {},
            "outputs": [
                {
                    "name": "stdout",
                    "output_type": "stream",
                    "text": [
                        "Classification Report (train):                precision    recall  f1-score   support\n",
                        "\n",
                        "           1       0.86      0.87      0.86     30534\n",
                        "           2       0.68      0.89      0.77     27891\n",
                        "           3       0.75      0.60      0.67     12436\n",
                        "           4       0.84      0.48      0.61      5447\n",
                        "           5       0.82      0.52      0.63      6175\n",
                        "           6       0.87      0.53      0.66      3783\n",
                        "\n",
                        "    accuracy                           0.77     86266\n",
                        "   macro avg       0.80      0.65      0.70     86266\n",
                        "weighted avg       0.78      0.77      0.76     86266\n",
                        "\n",
                        "Classification Report (test):                precision    recall  f1-score   support\n",
                        "\n",
                        "           1       0.69      0.72      0.70      7634\n",
                        "           2       0.46      0.63      0.54      6973\n",
                        "           3       0.27      0.21      0.24      3109\n",
                        "           4       0.20      0.09      0.12      1362\n",
                        "           5       0.25      0.13      0.17      1543\n",
                        "           6       0.24      0.11      0.15       946\n",
                        "\n",
                        "    accuracy                           0.51     21567\n",
                        "   macro avg       0.35      0.31      0.32     21567\n",
                        "weighted avg       0.47      0.51      0.48     21567\n",
                        "\n"
                    ]
                }
            ],
            "source": [
                "# Calculate Classification Report\n",
                "classification_train = classification_report(y_train, y_pred_train)\n",
                "classification_test = classification_report(y_test, y_pred_test)\n",
                "print('Classification Report (train): ', classification_train)\n",
                "print('Classification Report (test): ', classification_test)"
            ]
        },
        {
            "cell_type": "markdown",
            "metadata": {},
            "source": [
                "## Evaluation"
            ]
        },
        {
            "cell_type": "code",
            "execution_count": 1,
            "metadata": {},
            "outputs": [
                {
                    "ename": "NameError",
                    "evalue": "name 'y_test' is not defined",
                    "output_type": "error",
                    "traceback": [
                        "\u001b[1;31m---------------------------------------------------------------------------\u001b[0m",
                        "\u001b[1;31mNameError\u001b[0m                                 Traceback (most recent call last)",
                        "Cell \u001b[1;32mIn[1], line 55\u001b[0m\n\u001b[0;32m     43\u001b[0m         plot_single_metric(df, metric, title_suffix)\n\u001b[0;32m     45\u001b[0m \u001b[38;5;66;03m# Plot for training data\u001b[39;00m\n\u001b[0;32m     46\u001b[0m \u001b[38;5;66;03m#plot_classification_metrics(y_train, y_pred_train_1, \"Best Model (Train)\")\u001b[39;00m\n\u001b[0;32m     47\u001b[0m \n\u001b[1;32m   (...)\u001b[0m\n\u001b[0;32m     53\u001b[0m \n\u001b[0;32m     54\u001b[0m \u001b[38;5;66;03m# Plot for test data\u001b[39;00m\n\u001b[1;32m---> 55\u001b[0m plot_classification_metrics(\u001b[43my_test\u001b[49m, y_pred_test, \u001b[38;5;124m\"\u001b[39m\u001b[38;5;124mBest Model (Test)\u001b[39m\u001b[38;5;124m\"\u001b[39m)\n\u001b[0;32m     57\u001b[0m \u001b[38;5;66;03m# Plot for test data\u001b[39;00m\n\u001b[0;32m     58\u001b[0m plot_classification_metrics(y_test, y_pred_test, \u001b[38;5;124m\"\u001b[39m\u001b[38;5;124mBest Short Model (Test)\u001b[39m\u001b[38;5;124m\"\u001b[39m)\n",
                        "\u001b[1;31mNameError\u001b[0m: name 'y_test' is not defined"
                    ]
                }
            ],
            "source": [
                "\n",
                "# Custom labels for x-axis\n",
                "custom_labels = {\n",
                "    '1': 'no delay',\n",
                "    '2': '0-30',\n",
                "    '3': '30-60',\n",
                "    '4': '60-120',\n",
                "    '5': '120-240',\n",
                "    '6': '>240'\n",
                "}\n",
                "\n",
                "def plot_single_metric(df, metric, title_suffix):\n",
                "    plt.figure(figsize=(12, 6))\n",
                "    sns.barplot(x=df.index, y=metric, data=df)\n",
                "    \n",
                "    plt.title(f'{metric.capitalize()} for Each Class - {title_suffix}', fontsize=16)\n",
                "    plt.xlabel('Delay in minutes', fontsize=12)\n",
                "    plt.ylabel(metric.capitalize(), fontsize=12)\n",
                "    \n",
                "    # Center x-axis labels\n",
                "    plt.xticks(ha='center')\n",
                "    \n",
                "    # Add value labels on top of each bar\n",
                "    for i, v in enumerate(df[metric]):\n",
                "        plt.text(i, v, f'{v:.2f}', ha='center', va='bottom')\n",
                "\n",
                "    plt.tight_layout()\n",
                "    plt.show()\n",
                "\n",
                "def plot_classification_metrics(y_true, y_pred, title_suffix):\n",
                "    # Get the classification report as a dict\n",
                "    report = classification_report(y_true, y_pred, output_dict=True)\n",
                "\n",
                "    # Convert the dictionary to a DataFrame, excluding the 'accuracy', 'macro avg', and 'weighted avg' rows\n",
                "    df = pd.DataFrame(report).transpose()\n",
                "    df = df.drop(['accuracy', 'macro avg', 'weighted avg'])\n",
                "\n",
                "    # Rename the index using custom labels\n",
                "    df.index = df.index.map(lambda x: custom_labels.get(x, x))\n",
                "\n",
                "    metrics = ['precision', 'recall', 'f1-score']\n",
                "\n",
                "    for metric in metrics:\n",
                "        plot_single_metric(df, metric, title_suffix)\n",
                "\n",
                "# Plot for training data\n",
                "#plot_classification_metrics(y_train, y_pred_train_1, \"Best Model (Train)\")\n",
                "\n",
                "# Plot for training data\n",
                "#plot_classification_metrics(y_train, y_pred_train_2, \"Best Short Model (Train)\")\n",
                "\n",
                "# Plot for training data\n",
                "#plot_classification_metrics(y_train, y_pred_train_3, \"Best Long Model (Train)\")\n",
                "\n",
                "# Plot for test data\n",
                "plot_classification_metrics(y_test, y_pred_test, \"Best Model (Test)\")\n",
                "\n",
                "# Plot for test data\n",
                "plot_classification_metrics(y_test, y_pred_test, \"Best Short Model (Test)\")\n",
                "\n",
                "# Plot for test data\n",
                "plot_classification_metrics(y_test, y_pred_test, \"Best Long Model (Test)\")"
            ]
        },
        {
            "cell_type": "markdown",
            "metadata": {},
            "source": [
                "## Validation"
            ]
        },
        {
            "cell_type": "markdown",
            "metadata": {},
            "source": [
                "## Packaging"
            ]
        },
        {
            "cell_type": "markdown",
            "metadata": {},
            "source": []
        }
    ],
    "metadata": {
        "kernelspec": {
            "display_name": "Python 3 (ipykernel)",
            "language": "python",
            "name": "python3"
        },
        "language_info": {
            "codemirror_mode": {
                "name": "ipython",
                "version": 3
            },
            "file_extension": ".py",
            "mimetype": "text/x-python",
            "name": "python",
            "nbconvert_exporter": "python",
            "pygments_lexer": "ipython3",
            "version": "3.11.3"
        }
    },
    "nbformat": 4,
    "nbformat_minor": 4
}
